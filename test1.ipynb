{
 "cells": [
  {
   "cell_type": "markdown",
   "id": "03536de7",
   "metadata": {},
   "source": [
    "# 파이썬 스타일 코드1 - 연습해보기\n",
    "\n",
    "201921529_김채연\n",
    "\n",
    "## 일반문제\n",
    "\n",
    "\n",
    "## 1. Css Selector 수정\n",
    "\n",
    "Css Selector는 웹 페이지에서 특정 요소를 선택하기 위해 해당 요소까지 찾아갈 수 있도록 해주는 주소와 같은 것. 대부분의 웹브라우저에서는 해당 요소에 대한 css selector 값을 쉽게 얻어올 수 있음 (F12 > Select an Element). "
   ]
  },
  {
   "cell_type": "code",
   "execution_count": 1,
   "id": "e0a11f71",
   "metadata": {},
   "outputs": [
    {
     "data": {
      "text/plain": [
       "'#today_main_news  >  div.hdline_news  >  ul  >  li'"
      ]
     },
     "execution_count": 1,
     "metadata": {},
     "output_type": "execute_result"
    }
   ],
   "source": [
    "# selector를 통해 구분된 리스트 만들기\n",
    "selector = \"#today_main_news > div.hdline_news > ul > li:nth-child(1)\"\n",
    "\n",
    "\n",
    "# 구분된 리스트에서 특정 구분자(\">\")로 나누어주기\n",
    "selector_list = selector.split(\">\")\n",
    "\n",
    "# selector를 웹크롤링에서 사용하기 위해 :nth-child라는 부분 제거하기\n",
    "# 필요한 부분만 기존 리스트에 할당하기\n",
    "selector_list[-1] = selector_list[-1].split(\":\")[0]\n",
    "\n",
    "# 구분자\">\"를 기준으로 리스트를 문자열로 합쳐주기\n",
    "\" > \".join(selector_list)"
   ]
  },
  {
   "cell_type": "markdown",
   "id": "e0a18324",
   "metadata": {},
   "source": [
    "## 2. list comprehension으로 만드는 구구단"
   ]
  },
  {
   "cell_type": "code",
   "execution_count": 4,
   "id": "76bbf6b3",
   "metadata": {},
   "outputs": [
    {
     "name": "stdout",
     "output_type": "stream",
     "text": [
      "2 x 1 = 2\n",
      "2 x 2 = 4\n",
      "2 x 3 = 6\n",
      "2 x 4 = 8\n",
      "2 x 5 = 10\n",
      "2 x 6 = 12\n",
      "2 x 7 = 14\n",
      "2 x 8 = 16\n",
      "2 x 9 = 18\n"
     ]
    }
   ],
   "source": [
    "# 구구단 계산기를 list comprehension으로 구현하기\n",
    "# 2단 계산하는 함수 만들기\n",
    "def gugu_com(x=2):\n",
    "    [print(f\"{x} x {i} = {x*i}\") for i in range(1, 10)]\n",
    "\n",
    "gugu_com(2)"
   ]
  },
  {
   "cell_type": "markdown",
   "id": "c946ad63",
   "metadata": {},
   "source": [
    "## 3. 두 주사위의 곱"
   ]
  },
  {
   "cell_type": "code",
   "execution_count": 5,
   "id": "4d193b12",
   "metadata": {},
   "outputs": [
    {
     "data": {
      "text/plain": [
       "[[1, 2, 3, 4, 5, 6],\n",
       " [2, 4, 6, 8, 10, 12],\n",
       " [3, 6, 9, 12, 15, 18],\n",
       " [4, 8, 12, 16, 20, 24],\n",
       " [5, 10, 15, 20, 25, 30],\n",
       " [6, 12, 18, 24, 30, 36]]"
      ]
     },
     "execution_count": 5,
     "metadata": {},
     "output_type": "execute_result"
    }
   ],
   "source": [
    "# 한 개의 주사위 표현하기 (주사위 범위:1~6)\n",
    "die = [i for i in range(1,7)]\n",
    " \n",
    "#  list comprehension을 사용하여 \n",
    "# 두 주사위의 곱의 결과를 이차원 리스트로 만들기\n",
    "[[j*i for i in die] for j in die]"
   ]
  },
  {
   "cell_type": "markdown",
   "id": "59fe38f5",
   "metadata": {},
   "source": [
    "## 4. 두 주사위의 합"
   ]
  },
  {
   "cell_type": "code",
   "execution_count": 6,
   "id": "4ac7c6a8",
   "metadata": {},
   "outputs": [
    {
     "name": "stdout",
     "output_type": "stream",
     "text": [
      "8\n",
      "8\n"
     ]
    }
   ],
   "source": [
    "# 두 주사위의 합의 결과를 2차원 리스트로 생성\n",
    "dice_sum = [[2, 3, 4, 5, 6, 7],\n",
    "            [3, 4, 5, 6, 7, 8],\n",
    "            [4, 5, 6, 7, 8, 9],\n",
    "            [5, 6, 7, 8, 9, 10],\n",
    "            [6, 7, 8, 9, 10, 11],\n",
    "            [7, 8, 9, 10, 11, 12]]\n",
    "\n",
    "# 인덱싱으로 2+6의 값을 두가지 방법으로 출력하기\n",
    "print(dice_sum[1][5])\n",
    "print(dice_sum[5][1])\n"
   ]
  },
  {
   "cell_type": "code",
   "execution_count": 7,
   "id": "d61e2115",
   "metadata": {},
   "outputs": [
    {
     "name": "stdout",
     "output_type": "stream",
     "text": [
      "8\n",
      "8\n"
     ]
    }
   ],
   "source": [
    "# 한 개의 주사위 표현하기 (주사위 범위:1~6)\n",
    "die = [i for i in range(1,7)]\n",
    "\n",
    "# 두 주사위의 합의 결과를 dice_sum에 할당하기\n",
    "dice_sum = [[j+i for i in die] for j in die]\n",
    "\n",
    "# 인덱싱으로 2+6의 값을 두가지 방법으로 출력하기\n",
    "print(dice_sum[1][5])\n",
    "print(dice_sum[5][1])"
   ]
  },
  {
   "cell_type": "markdown",
   "id": "109dccb0",
   "metadata": {},
   "source": [
    "## 도전문제\n",
    "\n",
    "## 표절 검사 프로그램\n",
    "\n",
    "- 단어 빈도를 기반으로 하여, 유사도를 측정하는 표절 검사 프로그램 작성하기"
   ]
  },
  {
   "cell_type": "code",
   "execution_count": 16,
   "id": "feebb941",
   "metadata": {},
   "outputs": [],
   "source": [
    "# 표절 검사를 하기 위한 3가지 text가 주어짐\n",
    "from collections import defaultdict, Counter\n",
    "\n",
    "text = \"\"\"Python is a very simple programming language so even if you are new to programming, you can learn python without facing any issues.\"\"\"\n",
    "\n",
    "text2 = \"\"\"C is a very difficult programming language so even if you are good at programming, you can learn c with facing any issues.\"\"\"\n",
    "\n",
    "text3 = \"\"\"R Programming is good at statistical analysis. you can learn easily\"\"\""
   ]
  },
  {
   "cell_type": "markdown",
   "id": "8de594ee",
   "metadata": {},
   "source": [
    "### 문제1\n",
    "defaultdict를 활용하여 text를 입력받으면 단어별 빈도를 측정하여 반환하는 함수 word_counter를 만드시오."
   ]
  },
  {
   "cell_type": "code",
   "execution_count": 14,
   "id": "be8eeb28",
   "metadata": {},
   "outputs": [],
   "source": [
    "# text의 단어별 빈도를 측정하는 함수만들기\n",
    "def word_counter(text):\n",
    "    word_count = defaultdict(lambda: 0) # defaultdict는 인덱싱에서 key 값이 없으면 오류가 아닌 0을 기본 값으로 가짐.\n",
    "    for word in text.lower().split(): # 단어별로 분할. 소문자로 변환.\n",
    "        word_count[word] += 1\n",
    "        \n",
    "    return word_count"
   ]
  },
  {
   "cell_type": "code",
   "execution_count": 15,
   "id": "242cab9f",
   "metadata": {},
   "outputs": [
    {
     "data": {
      "text/plain": [
       "defaultdict(<function __main__.word_counter.<locals>.<lambda>()>,\n",
       "            {'python': 2,\n",
       "             'is': 1,\n",
       "             'a': 1,\n",
       "             'very': 1,\n",
       "             'simple': 1,\n",
       "             'programming': 1,\n",
       "             'language': 1,\n",
       "             'so': 1,\n",
       "             'even': 1,\n",
       "             'if': 1,\n",
       "             'you': 2,\n",
       "             'are': 1,\n",
       "             'new': 1,\n",
       "             'to': 1,\n",
       "             'programming,': 1,\n",
       "             'can': 1,\n",
       "             'learn': 1,\n",
       "             'without': 1,\n",
       "             'facing': 1,\n",
       "             'any': 1,\n",
       "             'issues.': 1})"
      ]
     },
     "execution_count": 15,
     "metadata": {},
     "output_type": "execute_result"
    }
   ],
   "source": [
    "# text의 단어별 빈도 측정하기\n",
    "word_counter(text)"
   ]
  },
  {
   "cell_type": "markdown",
   "id": "1e01972c",
   "metadata": {},
   "source": [
    "### 문제2\n",
    "문제 1의 word_counter 활용하여 text와 text2의 유사도와 text와 text3의 유사도를 구하시오."
   ]
  },
  {
   "cell_type": "code",
   "execution_count": 13,
   "id": "8bc1ae7e",
   "metadata": {},
   "outputs": [],
   "source": [
    "# 두 text의 유사도를 측정하기 위한 함수 만들기\n",
    "def text_similarity(text_count_1, text_count_2):\n",
    "    text1_count = Counter(text_count_1)\n",
    "    text2_count = Counter(text_count_2)\n",
    "    \n",
    "    #  Counter들 간의 덧셈, 뺄셈 연산이 가능\n",
    "    # counter는 dict형태, dict형태의 모든 자료구조는 \n",
    "    # .values()를 통해 value값만 추출가능\n",
    "    word_total = sum(text1_count.values()) \n",
    "    word_diff = sum((text1_count - text2_count).values()) \n",
    "    \n",
    "    # 두 text의 유사도를 측정학기 위한 공식사용\n",
    "    # =(1−(∑Counter(A)−Counter(B)/∑Counter(A)))×100\n",
    "    return (1 - word_diff / word_total) * 100\n",
    "    "
   ]
  },
  {
   "cell_type": "code",
   "execution_count": 14,
   "id": "c21a7fa6",
   "metadata": {},
   "outputs": [
    {
     "data": {
      "text/plain": [
       "73.91304347826086"
      ]
     },
     "execution_count": 14,
     "metadata": {},
     "output_type": "execute_result"
    }
   ],
   "source": [
    "# text와 text2의 유사도 측정\n",
    "text_similarity(word_counter(text), word_counter(text2))"
   ]
  },
  {
   "cell_type": "code",
   "execution_count": 12,
   "id": "33ee0227",
   "metadata": {},
   "outputs": [
    {
     "data": {
      "text/plain": [
       "21.739130434782606"
      ]
     },
     "execution_count": 12,
     "metadata": {},
     "output_type": "execute_result"
    }
   ],
   "source": [
    "# text와 text3의 유사도 측정\n",
    "text_similarity(word_counter(text), word_counter(text3))"
   ]
  }
 ],
 "metadata": {
  "kernelspec": {
   "display_name": "Python 3",
   "language": "python",
   "name": "python3"
  },
  "language_info": {
   "codemirror_mode": {
    "name": "ipython",
    "version": 3
   },
   "file_extension": ".py",
   "mimetype": "text/x-python",
   "name": "python",
   "nbconvert_exporter": "python",
   "pygments_lexer": "ipython3",
   "version": "3.8.8"
  }
 },
 "nbformat": 4,
 "nbformat_minor": 5
}
