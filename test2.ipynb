{
 "cells": [
  {
   "cell_type": "markdown",
   "id": "5c0ab312",
   "metadata": {},
   "source": [
    "# 파이썬 스타일 코드2 - 연습해보기\n",
    "\n",
    "201921529_김채연 "
   ]
  },
  {
   "cell_type": "markdown",
   "id": "0c4300a6",
   "metadata": {},
   "source": [
    "## 1. 람다함수\n",
    "\n",
    "- 람다함수는 함수의 이름 없이, 함수처럼 사용할 수 있는 익명의 함수. 람다 대수에서 유래하였으며 일반적으로 람다함수는 이름을 지정하지 않아도 사용할 수 있음."
   ]
  },
  {
   "cell_type": "markdown",
   "id": "82f1964b",
   "metadata": {},
   "source": [
    "### 1.1. 기존 함수"
   ]
  },
  {
   "cell_type": "code",
   "execution_count": 2,
   "id": "145d3fa1",
   "metadata": {
    "scrolled": false
   },
   "outputs": [
    {
     "name": "stdout",
     "output_type": "stream",
     "text": [
      "5\n"
     ]
    }
   ],
   "source": [
    "def f(x,y): # f라는 함수를 정의하여\n",
    "    return x + y # 매개 변수 x 와 y 값을 더하여 반환해주기\n",
    "\n",
    "print(f(1,4)) "
   ]
  },
  {
   "cell_type": "markdown",
   "id": "84cb3a23",
   "metadata": {},
   "source": [
    "### 1.2. lambda 함수 할당"
   ]
  },
  {
   "cell_type": "code",
   "execution_count": 1,
   "id": "2c70dd38",
   "metadata": {},
   "outputs": [
    {
     "name": "stdout",
     "output_type": "stream",
     "text": [
      "5\n"
     ]
    }
   ],
   "source": [
    "# 기존 함수(f) 사용하여 lambda 함수 생성\n",
    "f=lambda x,y: x + y\n",
    "print(f(1,4))"
   ]
  },
  {
   "cell_type": "markdown",
   "id": "397a8059",
   "metadata": {},
   "source": [
    "### 1.3. 익명의 lambda 함수"
   ]
  },
  {
   "cell_type": "code",
   "execution_count": 4,
   "id": "76fbd82b",
   "metadata": {},
   "outputs": [
    {
     "name": "stdout",
     "output_type": "stream",
     "text": [
      "5\n"
     ]
    }
   ],
   "source": [
    "# 익명의 lambda 함수 사용하기\n",
    "print((lambda x, y:x + y)(1, 4))"
   ]
  },
  {
   "cell_type": "markdown",
   "id": "d8bf859d",
   "metadata": {},
   "source": [
    "## 2. 맵리듀스"
   ]
  },
  {
   "cell_type": "markdown",
   "id": "20c1dfa2",
   "metadata": {},
   "source": [
    "### 2.1. map 함수\n",
    "\n",
    "연속 데이터를 저장하는 시퀀스 자료형에서 요소마다 같은 기능을 적용할 때 사용. 일반적으로 리스트나 튜플처럼 요소가 있는 시퀀스 자료형에 사용됨."
   ]
  },
  {
   "cell_type": "code",
   "execution_count": 5,
   "id": "9c9369cf",
   "metadata": {},
   "outputs": [
    {
     "name": "stdout",
     "output_type": "stream",
     "text": [
      "[1, 4, 9, 16, 25]\n"
     ]
    }
   ],
   "source": [
    "# ex라는 이름의 리스트 만들기\n",
    "ex = [1,2,3,4,5]\n",
    "\n",
    "# 입력된 값을 제곱하는 람다함수 F 생성\n",
    "f = lambda x:x**2\n",
    "\n",
    "# 함수f를 ex의 각 요소에 매핑하여 리스트로 반환하기\n",
    "print(list(map(f, ex)))"
   ]
  },
  {
   "cell_type": "code",
   "execution_count": 7,
   "id": "34a5534a",
   "metadata": {},
   "outputs": [
    {
     "name": "stdout",
     "output_type": "stream",
     "text": [
      "1\n",
      "4\n",
      "9\n",
      "16\n",
      "25\n"
     ]
    }
   ],
   "source": [
    "# ex라는 이름의 리스트 만들기\n",
    "ex=[1,2,3,4,5]\n",
    "\n",
    "# 입력된 값을 제곱하는 람다함수 F 생성\n",
    "# 함수f를 ex의 각 요소에 매핑하여 반환하기\n",
    "f=lambda x:x**2\n",
    "for value in map(f,ex):\n",
    "    print(value)"
   ]
  },
  {
   "cell_type": "code",
   "execution_count": 2,
   "id": "9bea5613",
   "metadata": {},
   "outputs": [
    {
     "data": {
      "text/plain": [
       "[1, 4, 9, 16, 25]"
      ]
     },
     "execution_count": 2,
     "metadata": {},
     "output_type": "execute_result"
    }
   ],
   "source": [
    "# ex라는 이름의 리스트 만들기\n",
    "ex = [1, 2, 3, 4, 5]\n",
    "\n",
    "# 리스트 컴프리헨션 방법으로 리스트 반환하기\n",
    "[x**2 for x in ex]"
   ]
  },
  {
   "cell_type": "code",
   "execution_count": 9,
   "id": "bd220dc8",
   "metadata": {},
   "outputs": [
    {
     "data": {
      "text/plain": [
       "[2, 4, 6, 8, 10]"
      ]
     },
     "execution_count": 9,
     "metadata": {},
     "output_type": "execute_result"
    }
   ],
   "source": [
    "# ex라는 이름의 리스트 만들기\n",
    "ex=[1,2,3,4,5]\n",
    "\n",
    "\n",
    "# 입력된 값을 제곱하는 람다함수 F 생성\n",
    "# (2개 이상의 데이터처리 )함수f를 ex와 ex의 각 요소에 매핑하여 리스트로 반환하기\n",
    "f=lambda x,y:x+y\n",
    "list(map(f,ex,ex))"
   ]
  },
  {
   "cell_type": "code",
   "execution_count": 10,
   "id": "36769cfb",
   "metadata": {},
   "outputs": [
    {
     "data": {
      "text/plain": [
       "[2, 4, 6, 8, 10]"
      ]
     },
     "execution_count": 10,
     "metadata": {},
     "output_type": "execute_result"
    }
   ],
   "source": [
    "# 리스트 컴프리헨션 방법으로 리스트 반환하기\n",
    "[x+y for x,y in zip(ex,ex)] "
   ]
  },
  {
   "cell_type": "markdown",
   "id": "4cba74a8",
   "metadata": {},
   "source": [
    "### 2.2. reduce 함수\n",
    "\n",
    "- 리스트와 같은 시쿼스 자료형에 차례대로 함수를 적용하여 모든 값을 통합하는 함수\n"
   ]
  },
  {
   "cell_type": "code",
   "execution_count": 2,
   "id": "86597c1e",
   "metadata": {},
   "outputs": [
    {
     "name": "stdout",
     "output_type": "stream",
     "text": [
      "15\n"
     ]
    }
   ],
   "source": [
    "# reduce함수 사용하여 [1,2,3,4,5]의 값을 차례로 모두 더하기\n",
    "from functools import reduce\n",
    "print(reduce(lambda x,y:x+y, [1,2,3,4,5]))"
   ]
  },
  {
   "cell_type": "code",
   "execution_count": 4,
   "id": "f0f409b0",
   "metadata": {},
   "outputs": [
    {
     "name": "stdout",
     "output_type": "stream",
     "text": [
      "15\n"
     ]
    }
   ],
   "source": [
    "# for반복문을 사용하여 [1,2,3,4,5]의 값을 차례로 모두 더하기\n",
    "x=0\n",
    "for y in [1,2,3,4,5]:\n",
    "    x += y\n",
    "print(x)"
   ]
  },
  {
   "cell_type": "markdown",
   "id": "83639abf",
   "metadata": {},
   "source": [
    "## 3. 별표의 활용"
   ]
  },
  {
   "cell_type": "markdown",
   "id": "61fb25f7",
   "metadata": {},
   "source": [
    "### 3.1. 가변 인수로 활용\n",
    "- 가변 인수"
   ]
  },
  {
   "cell_type": "code",
   "execution_count": 6,
   "id": "2ccc3b9c",
   "metadata": {},
   "outputs": [
    {
     "name": "stdout",
     "output_type": "stream",
     "text": [
      "1 (2, 3, 4, 5, 6)\n",
      "<class 'tuple'>\n"
     ]
    }
   ],
   "source": [
    "# 가변인수 *args, 임의의 개수의 인자 받기\n",
    "# 전달 받은 임의의 개수 인자를 \n",
    "# tuple 형태로 패킹하여 저장하기\n",
    "def asterisk_test(a, *args):\n",
    "    print(a,args)\n",
    "    print(type(args))\n",
    "\n",
    "asterisk_test(1,2,3,4,5,6)"
   ]
  },
  {
   "cell_type": "markdown",
   "id": "b3d37a06",
   "metadata": {},
   "source": [
    "- 키워드 가변 인수"
   ]
  },
  {
   "cell_type": "code",
   "execution_count": 8,
   "id": "6bc6fa6f",
   "metadata": {},
   "outputs": [
    {
     "name": "stdout",
     "output_type": "stream",
     "text": [
      "1 {'b': 2, 'c': 3, 'd': 4, 'e': 5, 'f': 6}\n",
      "<class 'dict'>\n"
     ]
    }
   ],
   "source": [
    "# 키워드 가변인수 **kargs, 임의의 개수의 키워드 인자 받기\n",
    "# 전달받은 키워드 인자를 dictionary형태로 패킹하여 저장하기\n",
    "def asterisk_test(a,**kargs):\n",
    "    print(a,kargs)\n",
    "    print(type(kargs))\n",
    "asterisk_test(1,b=2,c=3,d=4,e=5,f=6)"
   ]
  },
  {
   "cell_type": "markdown",
   "id": "74d01e05",
   "metadata": {},
   "source": [
    "### 3.2. 별표의 언패킹 기능\n",
    "- 함수에서의 사용"
   ]
  },
  {
   "cell_type": "code",
   "execution_count": 4,
   "id": "e5c61ed2",
   "metadata": {},
   "outputs": [
    {
     "name": "stdout",
     "output_type": "stream",
     "text": [
      "1 2 3 4 5 6\n",
      "<class 'tuple'>\n"
     ]
    }
   ],
   "source": [
    "# args인자에 *를 붙여 args를 언패킹 하여 출력하기\n",
    "def asterisk_test(a,args):\n",
    "    print(a,*args)\n",
    "    print(type(args))\n",
    "asterisk_test(1,(2,3,4,5,6))"
   ]
  },
  {
   "cell_type": "code",
   "execution_count": 5,
   "id": "34ce730b",
   "metadata": {},
   "outputs": [
    {
     "name": "stdout",
     "output_type": "stream",
     "text": [
      "1 (2, 3, 4, 5, 6)\n",
      "<class 'tuple'>\n"
     ]
    }
   ],
   "source": [
    "# 매개변수 a와 args입력받아 그대로 출력하기\n",
    "def asterisk_test(a,args):\n",
    "    print(a,args)\n",
    "    print(type(args))\n",
    "asterisk_test(1,(2,3,4,5,6))"
   ]
  },
  {
   "cell_type": "markdown",
   "id": "e118374f",
   "metadata": {},
   "source": [
    "- 일반 자료형에서의 사용"
   ]
  },
  {
   "cell_type": "code",
   "execution_count": 11,
   "id": "8620c44f",
   "metadata": {},
   "outputs": [
    {
     "name": "stdout",
     "output_type": "stream",
     "text": [
      "[1, 2] [3, 4] [5, 6]\n",
      "[1, 2] [3, 4] [5, 6]\n"
     ]
    }
   ],
   "source": [
    "# a,b,c 값 저장하여 그대로 출력하기\n",
    "a,b,c=([1,2], [3,4], [5,6])\n",
    "print(a,b,c)\n",
    "\n",
    "# data에 여러값 저장한 후, *사용하여 언패킹하여 출력하기\n",
    "data=([1,2], [3,4], [5,6])\n",
    "print(*data)"
   ]
  },
  {
   "cell_type": "markdown",
   "id": "e2cec4c3",
   "metadata": {},
   "source": [
    "- zip 함수와의 응용"
   ]
  },
  {
   "cell_type": "code",
   "execution_count": 32,
   "id": "4fb6dc69",
   "metadata": {},
   "outputs": [
    {
     "name": "stdout",
     "output_type": "stream",
     "text": [
      "(1, 3, 5)\n",
      "<class 'tuple'>\n",
      "(2, 4, 6)\n",
      "<class 'tuple'>\n"
     ]
    }
   ],
   "source": [
    "# *[]를 언패킹하여 튜플로 출력하기\n",
    "for data in zip(*[[1,2],[3,4],[5,6]]):\n",
    "    print(data)\n",
    "    print(type(data))"
   ]
  },
  {
   "cell_type": "markdown",
   "id": "0a0e97b7",
   "metadata": {},
   "source": [
    "- 키워드 가변 인수 응용"
   ]
  },
  {
   "cell_type": "code",
   "execution_count": 25,
   "id": "cf38fa11",
   "metadata": {},
   "outputs": [
    {
     "name": "stdout",
     "output_type": "stream",
     "text": [
      "10 1 2 3\n"
     ]
    }
   ],
   "source": [
    "# **data 사용하여 data의 키값 출력\n",
    "def asterisk_test(a,b,c,d):\n",
    "    print(a,b,c,d)\n",
    "data={\"b\":1, \"c\":2, \"d\":3}\n",
    "asterisk_test(10, **data) "
   ]
  },
  {
   "cell_type": "markdown",
   "id": "87b151b0",
   "metadata": {},
   "source": [
    "## 4. 선형대수학\n",
    "\n",
    "### 4.1. 파이썬 스타일 코드로 표현한 벡터"
   ]
  },
  {
   "cell_type": "code",
   "execution_count": 20,
   "id": "2a9e9b54",
   "metadata": {},
   "outputs": [],
   "source": [
    "vector_a=[1,2,10]  # 리스트로 표현한 경우\n",
    "vector_b=(1,2,10)   # 튜플로 표현한 경우\n",
    "vector_c={'x':1, 'y':2, 'z':10}  # 딕셔너리로 표현한 경우"
   ]
  },
  {
   "cell_type": "markdown",
   "id": "6ce2f472",
   "metadata": {},
   "source": [
    "- 벡터의 연산: 벡터합\n",
    "               [2,2]+[2,3]+[3,5]=[7,10]"
   ]
  },
  {
   "cell_type": "code",
   "execution_count": 21,
   "id": "6c617bae",
   "metadata": {},
   "outputs": [
    {
     "name": "stdout",
     "output_type": "stream",
     "text": [
      "[7, 10]\n"
     ]
    }
   ],
   "source": [
    "u=[2,2]\n",
    "v=[2,3]\n",
    "z=[3,5]\n",
    "result=[]\n",
    "\n",
    "# for문 사용하여 벡터합 구하기\n",
    "# 빈 list인 result에 벡터의 연산값 추가하여 반환하기\n",
    "for i in range(len(u)):\n",
    "    result.append(u[i]+v[i]+z[i])\n",
    "print(result)"
   ]
  },
  {
   "cell_type": "code",
   "execution_count": 22,
   "id": "2d3aac34",
   "metadata": {},
   "outputs": [
    {
     "name": "stdout",
     "output_type": "stream",
     "text": [
      "[7, 10]\n"
     ]
    }
   ],
   "source": [
    "u=[2,2]\n",
    "v=[2,3]\n",
    "z=[3,5]\n",
    "\n",
    "# zip함수를 이용하여 튜플을 차례로 출력하고 \n",
    "# sum함수를 이용하여 벡터합 구하기\n",
    "result=[sum(t) for t in zip(u,v,z)]\n",
    "print(result)"
   ]
  },
  {
   "cell_type": "markdown",
   "id": "731c8544",
   "metadata": {},
   "source": [
    "- 별표를 사용한 함수화"
   ]
  },
  {
   "cell_type": "code",
   "execution_count": 23,
   "id": "48e8b736",
   "metadata": {},
   "outputs": [
    {
     "data": {
      "text/plain": [
       "[7, 10]"
      ]
     },
     "execution_count": 23,
     "metadata": {},
     "output_type": "execute_result"
    }
   ],
   "source": [
    "# unpacking 통해 zip(u,v,z) 효과를 낼 수 있음.\n",
    "def vector_addition(*args):\n",
    "    return [sum(t) for t in zip(*args)]   \n",
    "\n",
    "vector_addition(u,v,z)"
   ]
  },
  {
   "cell_type": "markdown",
   "id": "4773f484",
   "metadata": {},
   "source": [
    "- 간단한 두 벡터의 합"
   ]
  },
  {
   "cell_type": "code",
   "execution_count": 5,
   "id": "2cc2c739",
   "metadata": {},
   "outputs": [
    {
     "data": {
      "text/plain": [
       "[3, 3]"
      ]
     },
     "execution_count": 5,
     "metadata": {},
     "output_type": "execute_result"
    }
   ],
   "source": [
    "a = [1, 1]\n",
    "b = [2, 2]\n",
    "\n",
    "# for문과 zip함수 사용하여 간단하게 벡터합 구하기\n",
    "[x + y for x, y in zip(a, b)]"
   ]
  },
  {
   "cell_type": "markdown",
   "id": "cc3e9e0c",
   "metadata": {},
   "source": [
    "- 벡터의 연산: 스칼라곱\n",
    "                2([1,2,3]+[4,4,4])=2[5,6,7]=[10,12,14]"
   ]
  },
  {
   "cell_type": "code",
   "execution_count": 6,
   "id": "5e6edbf4",
   "metadata": {},
   "outputs": [
    {
     "data": {
      "text/plain": [
       "[10, 12, 14]"
      ]
     },
     "execution_count": 6,
     "metadata": {},
     "output_type": "execute_result"
    }
   ],
   "source": [
    "u=[1,2,3]\n",
    "v=[4,4,4]\n",
    "\n",
    "alpha=2\n",
    "\n",
    "# for문 zip함수를 이용하여 스칼라곱 구하기\n",
    "result=[alpha*sum(t) for t in zip(u,v)]\n",
    "result"
   ]
  },
  {
   "cell_type": "markdown",
   "id": "eb7f7c84",
   "metadata": {},
   "source": [
    "## 4.2. 파이썬 스타일코드로 표현한 행렬\n",
    "- 딕셔너리로 표현하는 경우 좌표졍보나 이름정보를 넣을 수 있으나 복잡함"
   ]
  },
  {
   "cell_type": "code",
   "execution_count": 7,
   "id": "4ec6a466",
   "metadata": {},
   "outputs": [],
   "source": [
    "matrix_a=[[3,6], [4,5]] #리스트로 표현한 경우\n",
    "matrix_b=[(3,6), (4,5)] #튜플로 표현한 경우\n",
    "matrix_c={(0,0):3, (0,1):6, (1,0):4, (1,1):5}  #딕셔너리로 표현한경우"
   ]
  },
  {
   "cell_type": "markdown",
   "id": "b0bb15f6",
   "metadata": {},
   "source": [
    "- 행렬의 연산: 행렬의 elemnet-wise 합"
   ]
  },
  {
   "cell_type": "code",
   "execution_count": 27,
   "id": "b9f3311e",
   "metadata": {},
   "outputs": [
    {
     "name": "stdout",
     "output_type": "stream",
     "text": [
      "[[8, 14], [10, 12]]\n"
     ]
    }
   ],
   "source": [
    "matrix_a=[[3,6], [4,5]]\n",
    "matrix_b=[[5,8], [6,7]]\n",
    "\n",
    "# 행렬의 연산구하기\n",
    "result=[[sum(row) for row in zip(*t)] for t in zip(matrix_a, matrix_b)]\n",
    "print(result)"
   ]
  },
  {
   "cell_type": "markdown",
   "id": "2c4e9359",
   "metadata": {},
   "source": [
    "# 일반문제\n",
    "\n",
    "## 주민등록번호로 성별 찾기 with map\n",
    "\n",
    "문제: lambda와 map을 사용하여 위의 리스트에서 출력결과 예시와 같이 성별을 나타내는 값을 추출하시오."
   ]
  },
  {
   "cell_type": "code",
   "execution_count": 8,
   "id": "0e76b2b5",
   "metadata": {},
   "outputs": [
    {
     "data": {
      "text/plain": [
       "['1', '2', '1', '1']"
      ]
     },
     "execution_count": 8,
     "metadata": {},
     "output_type": "execute_result"
    }
   ],
   "source": [
    "# 주민등록번호 리스트\n",
    "pins = [\"891120-1234567\", \"931120-2335567\", \"911120-1234234\", \"951120-1234567\"]\n",
    "\n",
    "# 성별을 나타내는 주민번호 뒷자리에서 맨 첫번째 숫자 추출\n",
    "list(map(lambda x: x.split(\"-\")[1][0], pins))"
   ]
  },
  {
   "cell_type": "markdown",
   "id": "79c4761f",
   "metadata": {},
   "source": [
    "# 도전문제\n",
    "\n",
    "## 벡터의 내적\n",
    "\n",
    "문제: 크기가 같은 두 벡터 (list 형태)를 받으면 이를 내적한 값을 도출하는 함수 dot을 구현하고, 이를 활용하여 a=[1, 2], b=[3,4]를 내적한 값을 구하시오."
   ]
  },
  {
   "cell_type": "code",
   "execution_count": 30,
   "id": "3f79ffa8",
   "metadata": {},
   "outputs": [
    {
     "data": {
      "text/plain": [
       "11"
      ]
     },
     "execution_count": 30,
     "metadata": {},
     "output_type": "execute_result"
    }
   ],
   "source": [
    "a = [1, 2]\n",
    "b = [3, 4]\n",
    "\n",
    "# 벡터의 내적한 값 구하기\n",
    "dot = lambda a,b : sum([x*y for x, y in zip(a, b)])\n",
    "\n",
    "dot(a,b)"
   ]
  }
 ],
 "metadata": {
  "kernelspec": {
   "display_name": "Python 3",
   "language": "python",
   "name": "python3"
  },
  "language_info": {
   "codemirror_mode": {
    "name": "ipython",
    "version": 3
   },
   "file_extension": ".py",
   "mimetype": "text/x-python",
   "name": "python",
   "nbconvert_exporter": "python",
   "pygments_lexer": "ipython3",
   "version": "3.8.8"
  }
 },
 "nbformat": 4,
 "nbformat_minor": 5
}
