{
 "cells": [
  {
   "cell_type": "markdown",
   "id": "634fc429",
   "metadata": {},
   "source": [
    "# Numpy"
   ]
  },
  {
   "cell_type": "markdown",
   "id": "627d5ed5",
   "metadata": {},
   "source": [
    "Numpy는 Numerical Python의 줄임말로 고성능의 과학계산 컴퓨팅과 데이터 분석에 필요한 기본 패키지이다. 제공되는 기능은 다음과 같다.\n",
    "\n",
    "- 빠르고 메모리를 효율적으로 사용하며 벡터 산술연산과 관련된 브로드캐스팅 기능을 제공하는 다차원 배열인 ndarray\n",
    "- 반복문을 작성할 필요 없이 전체 데이터 배열에 대해 빠른 연산을 제공하는 표준 수학 함수\n",
    "- 배열 데이터를 디스크에 쓰거나 읽을 수 있는 도구와 메모리에 올려진 파일을 사용하는 도구\n",
    "- 선형대수, 난수 발생기, 푸리에 변환 기능\n",
    "\n",
    "Numpy를 사용하기 위해서는 먼저 numpy 패키지를 import한다."
   ]
  },
  {
   "cell_type": "code",
   "execution_count": 129,
   "id": "6a01bf89",
   "metadata": {},
   "outputs": [],
   "source": [
    "import numpy as np #numpy 패키지 불러오기"
   ]
  },
  {
   "cell_type": "markdown",
   "id": "87523674",
   "metadata": {},
   "source": [
    "## 다차원 배열(Arrays)"
   ]
  },
  {
   "cell_type": "markdown",
   "id": "c81a73ee",
   "metadata": {},
   "source": [
    "Numpy가 제공하는 ndarray(n-dimensional array)은 같은 종류의 데이터를 담을 수 있는 다차원 배열이며, 모든 원소는 같은 자료형이어야 한다. 모든 배열은 각 차원의 크기를 알려주는 shape라는 튜플과 배열에 저장된 자료형을 알려주는 type이라는 객체를 가진다. ndarray의 차원(dimension)은 rank라고 부른다."
   ]
  },
  {
   "cell_type": "code",
   "execution_count": 130,
   "id": "a1b3682b",
   "metadata": {},
   "outputs": [
    {
     "name": "stdout",
     "output_type": "stream",
     "text": [
      "[1, 2, 3, 4, 5, 6]\n",
      "[[1, 2, 3], [4, 5, 6]]\n",
      "[1, 'a', 3.5]\n"
     ]
    }
   ],
   "source": [
    "# ndarray를 사용해보기 전에 비교를 위해 먼저 리스트를 실펴본다.\n",
    "a = [1, 2, 3, 4, 5, 6]\n",
    "print(a)\n",
    "b = [[1, 2, 3], [4, 5, 6]] # 리스트로 2차원 행렬을 표현했을때의 모양\n",
    "print(b)\n",
    "c = [1, 'a', 3.5] # 리스트는 서로 다른 type의 데이터 저장이 가능\n",
    "print(c)"
   ]
  },
  {
   "cell_type": "markdown",
   "id": "3aea6b50",
   "metadata": {},
   "source": [
    "ndarray는 array 함수와 중첩된 리스트(list)를 이용하여 생성할 수 있으며, []를 이용하여 인덱싱(indexing)을 한다."
   ]
  },
  {
   "cell_type": "code",
   "execution_count": 131,
   "id": "bb270e7e",
   "metadata": {},
   "outputs": [
    {
     "name": "stdout",
     "output_type": "stream",
     "text": [
      "<class 'numpy.ndarray'> (3,) 1 2 3\n",
      "[5 2 3]\n"
     ]
    }
   ],
   "source": [
    "a = np.array([1, 2, 3])  # 1차원 배열 생성\n",
    "print(type(a), a.shape, a[0], a[1], a[2])\n",
    "a[0] = 5   # 배열의 한 원소(1->5)를 변경\n",
    "print(a)"
   ]
  },
  {
   "cell_type": "code",
   "execution_count": 132,
   "id": "4df1b6df",
   "metadata": {},
   "outputs": [
    {
     "name": "stdout",
     "output_type": "stream",
     "text": [
      "[[1 2 3]\n",
      " [4 5 6]]\n"
     ]
    }
   ],
   "source": [
    "b = np.array([[1,2,3],[4,5,6]])   # 2차원 배열 생성\n",
    "print(b) #2차원 배열의 모양을 확인"
   ]
  },
  {
   "cell_type": "code",
   "execution_count": 133,
   "id": "f656b4cd",
   "metadata": {},
   "outputs": [
    {
     "name": "stdout",
     "output_type": "stream",
     "text": [
      "(2, 3)\n",
      "1 2 4\n"
     ]
    }
   ],
   "source": [
    "print(b.shape) #배열의 각 차원의 크기(행과 열 갯수)\n",
    "print(b[0, 0], b[0, 1], b[1, 0]) # 각 위치에 있는 숫자 인덱싱 "
   ]
  },
  {
   "cell_type": "markdown",
   "id": "b9743510",
   "metadata": {},
   "source": [
    "Numpy는 array 함수 외에도 배열을 생성하기 위한 다양한 방법을 제공한다."
   ]
  },
  {
   "cell_type": "code",
   "execution_count": 134,
   "id": "53021673",
   "metadata": {},
   "outputs": [
    {
     "name": "stdout",
     "output_type": "stream",
     "text": [
      "[[0. 0. 0.]\n",
      " [0. 0. 0.]]\n"
     ]
    }
   ],
   "source": [
    "a = np.zeros((2, 3))  # 값이 모두 0인 배열 생성, 매개변수는 원하는 shape\n",
    "print(a)"
   ]
  },
  {
   "cell_type": "code",
   "execution_count": 135,
   "id": "cc4640df",
   "metadata": {},
   "outputs": [
    {
     "name": "stdout",
     "output_type": "stream",
     "text": [
      "[[1. 1. 1. 1.]\n",
      " [1. 1. 1. 1.]\n",
      " [1. 1. 1. 1.]]\n"
     ]
    }
   ],
   "source": [
    "b = np.ones((3, 4))   # 값이 모두 1인 배열 생성\n",
    "print(b)"
   ]
  },
  {
   "cell_type": "code",
   "execution_count": 136,
   "id": "1979f40a",
   "metadata": {},
   "outputs": [
    {
     "name": "stdout",
     "output_type": "stream",
     "text": [
      "[[7 7 7 7]\n",
      " [7 7 7 7]]\n"
     ]
    }
   ],
   "source": [
    "c = np.full((2, 4), 7) # 모든 원소가 원하는 값(7)으로 초기화된 배열 생성\n",
    "print(c)"
   ]
  },
  {
   "cell_type": "code",
   "execution_count": 137,
   "id": "5a23c399",
   "metadata": {},
   "outputs": [
    {
     "name": "stdout",
     "output_type": "stream",
     "text": [
      "[[1. 0. 0. 0.]\n",
      " [0. 1. 0. 0.]\n",
      " [0. 0. 1. 0.]\n",
      " [0. 0. 0. 1.]]\n"
     ]
    }
   ],
   "source": [
    "d = np.eye(4)        # 2x2의 단위행렬(identity matrix)을 생성\n",
    "print(d)"
   ]
  },
  {
   "cell_type": "code",
   "execution_count": 138,
   "id": "97b37b6c",
   "metadata": {},
   "outputs": [
    {
     "name": "stdout",
     "output_type": "stream",
     "text": [
      "[[0.30996223 0.52813477 0.63534136 0.81320922]\n",
      " [0.83426269 0.23792562 0.6326499  0.60141793]]\n"
     ]
    }
   ],
   "source": [
    "e = np.random.random((2,4)) # 무작위값으로 이루어진 배열 생성\n",
    "print(e)"
   ]
  },
  {
   "cell_type": "markdown",
   "id": "ce5971d7",
   "metadata": {},
   "source": [
    "## 배열 인덱싱(Array indexing)\n",
    "슬라이싱(Slicing): 파이썬 리스트와 유사하게 배열도 슬라이싱이 가능하다. ndarray는 다차원 배열이므로 각 차원에 대해 슬라이싱을 할 수 있다."
   ]
  },
  {
   "cell_type": "code",
   "execution_count": 139,
   "id": "aeb4efab",
   "metadata": {},
   "outputs": [
    {
     "name": "stdout",
     "output_type": "stream",
     "text": [
      "[[2 3]\n",
      " [6 7]]\n"
     ]
    }
   ],
   "source": [
    "import numpy as np\n",
    "\n",
    "# shape가 (3, 4)이고 아래와 같은 값을 갖는 2차원 배열을 생성\n",
    "# [[ 1  2  3  4]\n",
    "#  [ 5  6  7  8]\n",
    "#  [ 9 10 11 12]]\n",
    "a = np.array([[1,2,3,4], [5,6,7,8], [9,10,11,12]])\n",
    "\n",
    "# 아래와 같은 일부를 뽑아내고 싶다면?\n",
    "# [[2 3]\n",
    "#  [6 7]]\n",
    "#        0열 1열 2열 3열\n",
    "# 0행 [[ 1   2   3   4]\n",
    "# 1행  [ 5   6   7   8]\n",
    "# 2행  [ 9  10  11  12]]\n",
    "\n",
    "b = a[:2, 1:3] # [[2 3] [6 7]] 뽑아내기\n",
    "print(b)"
   ]
  },
  {
   "cell_type": "markdown",
   "id": "bbfedad8",
   "metadata": {},
   "source": [
    "**주의할 점 : 배열의 슬라이스를 잘라서 만든 배열은 원래의 배열과 값을 공유하므로 수정할 경우 원래의 배열도 값이 변경된다.**"
   ]
  },
  {
   "cell_type": "code",
   "execution_count": 140,
   "id": "008deaab",
   "metadata": {},
   "outputs": [
    {
     "name": "stdout",
     "output_type": "stream",
     "text": [
      "2\n",
      "[[77  3]\n",
      " [ 6  7]]\n",
      "[[ 1 77  3  4]\n",
      " [ 5  6  7  8]\n",
      " [ 9 10 11 12]]\n"
     ]
    }
   ],
   "source": [
    "print(a[0, 1]) # 0행 1열에 있는 값 추출\n",
    "b[0, 0] = 77    # 0향 0열 위치에 있는 값 77로 바꾸기\n",
    "print(b)\n",
    "print(a) # 원래의 배열값도 함께 바뀌는 것 확인하기"
   ]
  },
  {
   "cell_type": "markdown",
   "id": "3583bd6d",
   "metadata": {},
   "source": [
    "만일 값을 복사해서 새로운 배열을 만들고 싶으면 copy() 함수를 사용"
   ]
  },
  {
   "cell_type": "code",
   "execution_count": 141,
   "id": "ff9632df",
   "metadata": {},
   "outputs": [
    {
     "name": "stdout",
     "output_type": "stream",
     "text": [
      "[[55  3]\n",
      " [ 6  7]]\n",
      "[[77  3]\n",
      " [ 6  7]]\n"
     ]
    }
   ],
   "source": [
    "c = b.copy() # 원래의 배열값은 바꾸고 싶지 않다면 copy사용하기\n",
    "c[0, 0] = 55\n",
    "print(c)\n",
    "print(b)"
   ]
  },
  {
   "cell_type": "markdown",
   "id": "13a56e95",
   "metadata": {},
   "source": [
    "인덱싱과 슬라이싱을 섞어서 쓸 수 있다 (정확히는 정수 인덱싱과 슬라이스 인덱싱).:"
   ]
  },
  {
   "cell_type": "code",
   "execution_count": 142,
   "id": "b45f2624",
   "metadata": {},
   "outputs": [
    {
     "name": "stdout",
     "output_type": "stream",
     "text": [
      "[[ 1  2  3  4]\n",
      " [ 5  6  7  8]\n",
      " [ 9 10 11 12]] (3, 4)\n"
     ]
    }
   ],
   "source": [
    "# (3,4)형태의 배열 생성\n",
    "a = np.array([[1,2,3,4], [5,6,7,8], [9,10,11,12]])\n",
    "print(a, a.shape)"
   ]
  },
  {
   "cell_type": "markdown",
   "id": "a726cb8c",
   "metadata": {},
   "source": [
    "정수 인덱싱과 슬라이싱을 섞어서 쓰는 경우 차원이 감소할 수 있다. 슬라이싱만 쓰는 경우는 차원 유지:"
   ]
  },
  {
   "cell_type": "code",
   "execution_count": 143,
   "id": "19e570a3",
   "metadata": {},
   "outputs": [
    {
     "name": "stdout",
     "output_type": "stream",
     "text": [
      "[5 6 7 8] (4,)\n"
     ]
    }
   ],
   "source": [
    "row_r1 = a[1, :]    # 주의하기, 차원 감소됨\n",
    "print(row_r1, row_r1.shape)"
   ]
  },
  {
   "cell_type": "code",
   "execution_count": 144,
   "id": "611b8a72",
   "metadata": {},
   "outputs": [
    {
     "name": "stdout",
     "output_type": "stream",
     "text": [
      "[[5 6 7 8]] (1, 4)\n"
     ]
    }
   ],
   "source": [
    "row_r2 = a[1:2, :]  # 차원 유지됨\n",
    "print(row_r2, row_r2.shape)"
   ]
  },
  {
   "cell_type": "code",
   "execution_count": 145,
   "id": "ad8278f5",
   "metadata": {},
   "outputs": [
    {
     "name": "stdout",
     "output_type": "stream",
     "text": [
      "[ 9 10 11 12] (4,)\n"
     ]
    }
   ],
   "source": [
    "row_r3 = a[2, :]  # 차원 감소됨\n",
    "print(row_r3, row_r3.shape)"
   ]
  },
  {
   "cell_type": "code",
   "execution_count": 146,
   "id": "9d3bcefa",
   "metadata": {},
   "outputs": [
    {
     "name": "stdout",
     "output_type": "stream",
     "text": [
      "[ 2  6 10] (3,)\n",
      "[[ 2]\n",
      " [ 6]\n",
      " [10]] (3, 1)\n"
     ]
    }
   ],
   "source": [
    "# 컬럼만 잘라낼 때에도 마찬가지:\n",
    "col_r1 = a[:, 1] # 1번째 열 저장\n",
    "col_r2 = a[:, 1:2] # 1번째 열 저장\n",
    "print(col_r1, col_r1.shape) # 차원 감소\n",
    "print(col_r2, col_r2.shape) # 차원 유지"
   ]
  },
  {
   "cell_type": "markdown",
   "id": "61724c44",
   "metadata": {},
   "source": [
    "정수 배열을 이용한 인덱싱: 슬라이싱을 사용하는 경우 결과는 항상 원래 배열의 서브 배열이 된다. 반면, 정수 배열을 이용하면 임의로 변경하는 것이 가능하다."
   ]
  },
  {
   "cell_type": "code",
   "execution_count": 147,
   "id": "be960ed9",
   "metadata": {},
   "outputs": [
    {
     "name": "stdout",
     "output_type": "stream",
     "text": [
      "[[1 2]\n",
      " [3 4]\n",
      " [5 6]] (3, 2)\n",
      "[1 4 5]\n",
      "[1 4 5]\n"
     ]
    }
   ],
   "source": [
    "a = np.array([[1,2], [3, 4], [5, 6]]) # (3,2)형태의 차원형성\n",
    "print(a, a.shape)\n",
    "\n",
    "# 정수 배열 인덱싱의 예.\n",
    "# 반환된 배열의 shape는 (3,) \n",
    "print(a[[0, 1, 2], [0, 1, 0]])\n",
    "\n",
    "# 위 방식은 아래 방식과 동일한 결과를 만들어 냄:\n",
    "print(np.array([a[0, 0], a[1, 1], a[2, 0]]))"
   ]
  },
  {
   "cell_type": "code",
   "execution_count": 148,
   "id": "25914914",
   "metadata": {},
   "outputs": [
    {
     "name": "stdout",
     "output_type": "stream",
     "text": [
      "[2 2]\n",
      "[2 2]\n"
     ]
    }
   ],
   "source": [
    "# 정수 배열 인덱싱을 할 때, 같은 요소를 가져오게 될 수도 있음\n",
    "print(a[[0, 0], [1, 1]])\n",
    "\n",
    "# 아래 예제와 동일\n",
    "print(np.array([a[0, 1], a[0, 1]]))"
   ]
  },
  {
   "cell_type": "markdown",
   "id": "b524fbf2",
   "metadata": {},
   "source": [
    "정수 배열 인덱싱은 각각의 행/열에서 원하는 요소만 가져오고 싶을 때 유용하게 사용이 가능:"
   ]
  },
  {
   "cell_type": "code",
   "execution_count": 149,
   "id": "10dfe557",
   "metadata": {},
   "outputs": [
    {
     "name": "stdout",
     "output_type": "stream",
     "text": [
      "[[ 1  2  3]\n",
      " [ 4  5  6]\n",
      " [ 7  8  9]\n",
      " [10 11 12]]\n"
     ]
    }
   ],
   "source": [
    "a = np.array([[1,2,3], [4,5,6], [7,8,9], [10, 11, 12]]) # (4,3)형태의 차원 생성\n",
    "print(a)"
   ]
  },
  {
   "cell_type": "code",
   "execution_count": 150,
   "id": "ffdbd6ad",
   "metadata": {},
   "outputs": [
    {
     "name": "stdout",
     "output_type": "stream",
     "text": [
      "[0 1 2 3]\n",
      "range(0, 4)\n"
     ]
    }
   ],
   "source": [
    "# np.arange는 range와는 달리 ndarray 형태로 모든 값을 생성\n",
    "print(np.arange(4))\n",
    "print(range(4))"
   ]
  },
  {
   "cell_type": "code",
   "execution_count": 151,
   "id": "071861eb",
   "metadata": {},
   "outputs": [
    {
     "name": "stdout",
     "output_type": "stream",
     "text": [
      "[ 1  6  7 11]\n"
     ]
    }
   ],
   "source": [
    "# 정수 배열 선언\n",
    "b = np.array([0, 2, 0, 1])\n",
    "\n",
    "# b의 각 행에서 위 배열에 해당하는 열의 값을 가져오고 싶다면?\n",
    "print(a[np.arange(4), b]) # a차원의 각 행에서 0,2,0,1열에 해당하는 값 추출"
   ]
  },
  {
   "cell_type": "code",
   "execution_count": 152,
   "id": "8e9d8f87",
   "metadata": {},
   "outputs": [
    {
     "name": "stdout",
     "output_type": "stream",
     "text": [
      "[[11  2  3]\n",
      " [ 4  5 16]\n",
      " [17  8  9]\n",
      " [10 21 12]]\n"
     ]
    }
   ],
   "source": [
    "# b의 각 행에서 위 배열에 해당하는 열의 값에만 10을 더하고 싶다면?\n",
    "a[np.arange(4), b] += 10 # a차원의 각 행에서 0,2,0,1열에 해당하는 값에 10더해 넣기\n",
    "print(a)"
   ]
  },
  {
   "cell_type": "markdown",
   "id": "6e2a5725",
   "metadata": {},
   "source": [
    "불리안 배열 인덱싱: 불리안 배열을 이용하면 배열에서 원하는 요소들만 추출이 가능하다. 일반적으로 특정 조건을 만족하는 요소들만 골라내고자 하는 경우에 자주 사용된다.:"
   ]
  },
  {
   "cell_type": "code",
   "execution_count": 153,
   "id": "badc76be",
   "metadata": {},
   "outputs": [
    {
     "data": {
      "text/plain": [
       "array([False, False, False,  True,  True,  True])"
      ]
     },
     "execution_count": 153,
     "metadata": {},
     "output_type": "execute_result"
    }
   ],
   "source": [
    "bb = np.array([1, 2, 3, 4, 5, 6])\n",
    "\n",
    "# ndarray 중 벡터에 대한 비교연산자 적용 결과\n",
    "bb > 3 # 3보다 큰 값은 true로 나타냄"
   ]
  },
  {
   "cell_type": "code",
   "execution_count": 154,
   "id": "36ece4c0",
   "metadata": {},
   "outputs": [
    {
     "data": {
      "text/plain": [
       "array([4, 5, 6])"
      ]
     },
     "execution_count": 154,
     "metadata": {},
     "output_type": "execute_result"
    }
   ],
   "source": [
    "# 벡터에 대한 불리안 인덱싱 결과\n",
    "\n",
    "bb[bb > 3] # bb 값 중에서 3보다 큰 값만 반환 "
   ]
  },
  {
   "cell_type": "code",
   "execution_count": 155,
   "id": "49880fdc",
   "metadata": {},
   "outputs": [
    {
     "name": "stdout",
     "output_type": "stream",
     "text": [
      "[[False False]\n",
      " [ True  True]\n",
      " [ True  True]]\n"
     ]
    }
   ],
   "source": [
    "# 행렬에 대한 불리안 인덱싱 결과 확인\n",
    "a = np.array([[1,2], [3, 4], [5, 6]])\n",
    "\n",
    "bool_idx = (a > 2)  # 배열의 개별적인 요소에 대해서 2보다 큰지를 True/False 배열로 반환\n",
    "\n",
    "print(bool_idx)"
   ]
  },
  {
   "cell_type": "code",
   "execution_count": 156,
   "id": "39830abf",
   "metadata": {},
   "outputs": [
    {
     "name": "stdout",
     "output_type": "stream",
     "text": [
      "[3 4 5 6]\n",
      "[3 4 5 6]\n"
     ]
    }
   ],
   "source": [
    "# 불리안 배열의 값이 true인 요소들만 반환\n",
    "print(a[bool_idx])\n",
    "\n",
    "# 아래와 같이 줄여서 사용 가능:\n",
    "print(a[a > 2])"
   ]
  },
  {
   "cell_type": "markdown",
   "id": "0b51e184",
   "metadata": {},
   "source": [
    "## 데이터 타입\n",
    "Numpy의 ndarray는 모두 같은 타입의 요소들로 이루어진다. 다양한 데이터 타입이 제공되며, 지정하지 않는 경우 Numpy는 타입을 자동으로 선택한다. 아래와 같이 데이터 타입을 명시적으로 선언하는 것도 가능하다:"
   ]
  },
  {
   "cell_type": "code",
   "execution_count": 157,
   "id": "36379a4b",
   "metadata": {},
   "outputs": [
    {
     "name": "stdout",
     "output_type": "stream",
     "text": [
      "int32 float64 int64\n"
     ]
    }
   ],
   "source": [
    "x = np.array([1, 2])  # 자동으로 타입 선택\n",
    "y = np.array([1.0, 2.0])  # 자동으로 타입 선택\n",
    "z = np.array([1, 2], dtype=np.int64)  # 명시적으로 타입을 지정\n",
    "\n",
    "print(x.dtype, y.dtype, z.dtype)"
   ]
  },
  {
   "cell_type": "code",
   "execution_count": 158,
   "id": "11fe321c",
   "metadata": {},
   "outputs": [
    {
     "data": {
      "text/plain": [
       "array([1., 2.], dtype=float32)"
      ]
     },
     "execution_count": 158,
     "metadata": {},
     "output_type": "execute_result"
    }
   ],
   "source": [
    "z = np.array([1, 2], dtype=np.float32) #값은 정수인데 타입은 실수로 한 경우\n",
    "z"
   ]
  },
  {
   "cell_type": "markdown",
   "id": "c31293cd",
   "metadata": {},
   "source": [
    "데이터 타입에 대한 상세한 내용은 다음을 참조 documentation."
   ]
  },
  {
   "cell_type": "markdown",
   "id": "0f592a66",
   "metadata": {},
   "source": [
    "## 배열 연산\n",
    "배열에 대한 수학 연산은 기본적으로 요소단위(elementwise)로 이루어지며, 연산자와 함수 둘 다 사용이 가능하다:"
   ]
  },
  {
   "cell_type": "code",
   "execution_count": 159,
   "id": "49420da2",
   "metadata": {},
   "outputs": [
    {
     "name": "stdout",
     "output_type": "stream",
     "text": [
      "[[1. 2.]\n",
      " [3. 4.]]\n",
      "[[5. 6.]\n",
      " [7. 8.]]\n"
     ]
    }
   ],
   "source": [
    "x = np.array([[1,2],[3,4]], dtype=np.float64) # 값은 정수인데 타입 실수로 함\n",
    "y = np.array([[5,6],[7,8]], dtype=np.float64) # 값은 정수인데 타입 실수로 함\n",
    "print(x)\n",
    "print(y)"
   ]
  },
  {
   "cell_type": "code",
   "execution_count": 160,
   "id": "fb24dd2d",
   "metadata": {},
   "outputs": [
    {
     "name": "stdout",
     "output_type": "stream",
     "text": [
      "[[ 6.  8.]\n",
      " [10. 12.]]\n",
      "[[ 6.  8.]\n",
      " [10. 12.]]\n"
     ]
    }
   ],
   "source": [
    "# 요소합(elementwise sum), 결과로 ndarray를 생성한다\n",
    "print(x + y) # 배열끼리 합산\n",
    "print(np.add(x, y)) # 다른 방법으로 배열끼리 합산"
   ]
  },
  {
   "cell_type": "code",
   "execution_count": 161,
   "id": "e49f1fa5",
   "metadata": {},
   "outputs": [
    {
     "name": "stdout",
     "output_type": "stream",
     "text": [
      "[[-4. -4.]\n",
      " [-4. -4.]]\n",
      "[[-4. -4.]\n",
      " [-4. -4.]]\n"
     ]
    }
   ],
   "source": [
    "# 요소차(Elementwise difference)\n",
    "print(x - y) # 배열끼리 차 구하기\n",
    "print(np.subtract(x, y)) # 다른 방법으로 배열끼리 차 구하기"
   ]
  },
  {
   "cell_type": "code",
   "execution_count": 162,
   "id": "9019d50e",
   "metadata": {},
   "outputs": [
    {
     "name": "stdout",
     "output_type": "stream",
     "text": [
      "[[ 5. 12.]\n",
      " [21. 32.]]\n",
      "[[ 5. 12.]\n",
      " [21. 32.]]\n"
     ]
    }
   ],
   "source": [
    "# 요소곱(Elementwise product)\n",
    "print(x * y) # 배열끼리 곱하기\n",
    "print(np.multiply(x, y)) # 다른 방법으로 배열끼리 곱하기"
   ]
  },
  {
   "cell_type": "code",
   "execution_count": 163,
   "id": "d80c6e2c",
   "metadata": {},
   "outputs": [
    {
     "name": "stdout",
     "output_type": "stream",
     "text": [
      "[[0.2        0.33333333]\n",
      " [0.42857143 0.5       ]]\n",
      "[[0.2        0.33333333]\n",
      " [0.42857143 0.5       ]]\n"
     ]
    }
   ],
   "source": [
    "# 요소 나눗셈(Elementwise division)\n",
    "# [[ 0.2         0.33333333]\n",
    "#  [ 0.42857143  0.5       ]]\n",
    "print(x / y) # 배열기리 나누기\n",
    "print(np.divide(x, y)) # 다른 방법으로 배열끼리 나누기"
   ]
  },
  {
   "cell_type": "code",
   "execution_count": 164,
   "id": "f245787b",
   "metadata": {},
   "outputs": [
    {
     "name": "stdout",
     "output_type": "stream",
     "text": [
      "[[1.         1.41421356]\n",
      " [1.73205081 2.        ]]\n"
     ]
    }
   ],
   "source": [
    "# Elementwise square root\n",
    "# [[ 1.          1.41421356]\n",
    "#  [ 1.73205081  2.        ]]\n",
    "print(np.sqrt(x)) #sqrt가 각 요소에 적용됨"
   ]
  },
  {
   "cell_type": "code",
   "execution_count": 165,
   "id": "2758478b",
   "metadata": {},
   "outputs": [
    {
     "ename": "TypeError",
     "evalue": "must be real number, not list",
     "output_type": "error",
     "traceback": [
      "\u001b[1;31m---------------------------------------------------------------------------\u001b[0m",
      "\u001b[1;31mTypeError\u001b[0m                                 Traceback (most recent call last)",
      "\u001b[1;32m<ipython-input-165-78aaff476d09>\u001b[0m in \u001b[0;36m<module>\u001b[1;34m\u001b[0m\n\u001b[0;32m      2\u001b[0m \u001b[0ma\u001b[0m \u001b[1;33m=\u001b[0m \u001b[1;33m[\u001b[0m\u001b[1;36m1\u001b[0m\u001b[1;33m,\u001b[0m \u001b[1;36m2\u001b[0m\u001b[1;33m,\u001b[0m \u001b[1;36m3\u001b[0m\u001b[1;33m,\u001b[0m \u001b[1;36m4\u001b[0m\u001b[1;33m]\u001b[0m\u001b[1;33m\u001b[0m\u001b[1;33m\u001b[0m\u001b[0m\n\u001b[0;32m      3\u001b[0m \u001b[1;33m\u001b[0m\u001b[0m\n\u001b[1;32m----> 4\u001b[1;33m \u001b[0mmath\u001b[0m\u001b[1;33m.\u001b[0m\u001b[0msqrt\u001b[0m\u001b[1;33m(\u001b[0m\u001b[0ma\u001b[0m\u001b[1;33m)\u001b[0m \u001b[1;31m#sqrt()가 리스트에도 작동하는지 확인\u001b[0m\u001b[1;33m\u001b[0m\u001b[1;33m\u001b[0m\u001b[0m\n\u001b[0m\u001b[0;32m      5\u001b[0m \u001b[1;31m# 작동하지 않음.\u001b[0m\u001b[1;33m\u001b[0m\u001b[1;33m\u001b[0m\u001b[1;33m\u001b[0m\u001b[0m\n",
      "\u001b[1;31mTypeError\u001b[0m: must be real number, not list"
     ]
    }
   ],
   "source": [
    "import math\n",
    "a = [1, 2, 3, 4]\n",
    "\n",
    "math.sqrt(a) #sqrt()가 리스트에도 작동하는지 확인 \n",
    "# 작동하지 않음."
   ]
  },
  {
   "cell_type": "markdown",
   "id": "5269c79b",
   "metadata": {},
   "source": [
    "벡터의 내적(inner product)은 dot 함수를 사용한다. dot 는 numpy 함수와 ndarray의 메소드 두 방식으로 사용이 가능하다:"
   ]
  },
  {
   "cell_type": "code",
   "execution_count": 166,
   "id": "aeb1bd40",
   "metadata": {},
   "outputs": [
    {
     "name": "stdout",
     "output_type": "stream",
     "text": [
      "[[1 2]\n",
      " [3 4]] (2, 2)\n",
      "[[5 6]\n",
      " [7 8]] (2, 2)\n",
      "[ 9 10] (2,)\n",
      "[11 12] (2,)\n"
     ]
    }
   ],
   "source": [
    "#  x,y,v,w 배열 생성하기\n",
    "x = np.array([[1,2],[3,4]])\n",
    "y = np.array([[5,6],[7,8]])\n",
    "\n",
    "v = np.array([9,10])\n",
    "w = np.array([11,12])\n",
    "\n",
    "print(x, x.shape)\n",
    "print(y, y.shape)\n",
    "print(v, v.shape)\n",
    "print(w, w.shape)"
   ]
  },
  {
   "cell_type": "code",
   "execution_count": 167,
   "id": "337f5466",
   "metadata": {},
   "outputs": [
    {
     "name": "stdout",
     "output_type": "stream",
     "text": [
      "219\n",
      "219\n"
     ]
    }
   ],
   "source": [
    "# 벡터 내적(Inner product)\n",
    "print(v.dot(w))\n",
    "print(np.dot(v, w))"
   ]
  },
  {
   "cell_type": "code",
   "execution_count": 168,
   "id": "c354cddb",
   "metadata": {},
   "outputs": [
    {
     "name": "stdout",
     "output_type": "stream",
     "text": [
      "[29 67]\n",
      "[29 67]\n"
     ]
    }
   ],
   "source": [
    "# 행렬과 벡터 간 곱셈(matrix / vector product)\n",
    "print(x.dot(v))\n",
    "print(np.dot(x, v))"
   ]
  },
  {
   "cell_type": "code",
   "execution_count": 169,
   "id": "f2084b31",
   "metadata": {},
   "outputs": [
    {
     "name": "stdout",
     "output_type": "stream",
     "text": [
      "[[19 22]\n",
      " [43 50]]\n",
      "[[19 22]\n",
      " [43 50]]\n"
     ]
    }
   ],
   "source": [
    "# 행렬 곱셈(Matrix multiplication / product)\n",
    "# [[19 22]\n",
    "#  [43 50]]\n",
    "print(x.dot(y))\n",
    "print(np.dot(x, y))"
   ]
  },
  {
   "cell_type": "markdown",
   "id": "3ae386e0",
   "metadata": {},
   "source": [
    "Numpy는 유용한 함수들을 제공한다. 그 중 하나가 sum으로 사용법은 아래와 같다:"
   ]
  },
  {
   "cell_type": "code",
   "execution_count": 170,
   "id": "229b9444",
   "metadata": {},
   "outputs": [
    {
     "name": "stdout",
     "output_type": "stream",
     "text": [
      "[[1 2]\n",
      " [3 4]]\n",
      "10\n",
      "[4 6]\n",
      "[3 7]\n"
     ]
    }
   ],
   "source": [
    "x = np.array([[1,2],[3,4]])\n",
    "print(x)\n",
    "\n",
    "print(np.sum(x))  # 모든 요소의 합 \"10\"\n",
    "print(np.sum(x, axis=0))  # 열(column)의 합을 계산 \"[4 6]\"\n",
    "print(np.sum(x, axis=1))  # 행(row)의 합을 계산; prints \"[3 7]\""
   ]
  },
  {
   "cell_type": "markdown",
   "id": "45110a84",
   "metadata": {},
   "source": [
    "Numpy의 다른 함수들은 다음을 참조 documentation.\n",
    "\n",
    "행렬연산에서 중요한 연산 중 하나는 전치행렬(transposed matrix)를 구하는 것이다. 아래와 같이 Numpy의 T 메소드를 이용해서 구한다:"
   ]
  },
  {
   "cell_type": "code",
   "execution_count": 171,
   "id": "a050b0af",
   "metadata": {},
   "outputs": [
    {
     "name": "stdout",
     "output_type": "stream",
     "text": [
      "[[1 2 3]\n",
      " [4 5 6]]\n",
      "[[1 4]\n",
      " [2 5]\n",
      " [3 6]]\n"
     ]
    }
   ],
   "source": [
    "x = np.array([[1,2,3],[4,5,6]])\n",
    "print(x)\n",
    "print(x.T) # 전치행렬 구하기"
   ]
  },
  {
   "cell_type": "code",
   "execution_count": 172,
   "id": "d94d9e8d",
   "metadata": {},
   "outputs": [
    {
     "name": "stdout",
     "output_type": "stream",
     "text": [
      "[[1 2 3]]\n",
      "[[1]\n",
      " [2]\n",
      " [3]]\n"
     ]
    }
   ],
   "source": [
    "v = np.array([[1,2,3]])\n",
    "print(v)\n",
    "print(v.T) # 전치행렬구하기"
   ]
  },
  {
   "cell_type": "markdown",
   "id": "e007037e",
   "metadata": {},
   "source": [
    "## 브로드캐스팅(Broadcasting)\n",
    "브로드캐스팅은 크기가 서로 다른 배열에 대해 연산을 하고자 하는 경우에 사용되는 강력한 메커니즘이다. 아래 예는 브로드캐스팅의 개념과 예제를 잘 보여준다:"
   ]
  },
  {
   "cell_type": "code",
   "execution_count": 173,
   "id": "37755706",
   "metadata": {},
   "outputs": [
    {
     "name": "stdout",
     "output_type": "stream",
     "text": [
      "x =\n",
      " [[ 1  2  3]\n",
      " [ 4  5  6]\n",
      " [ 7  8  9]\n",
      " [10 11 12]]\n",
      "y =\n",
      " [[ 2  2  4]\n",
      " [ 5  5  7]\n",
      " [ 8  8 10]\n",
      " [11 11 13]]\n"
     ]
    }
   ],
   "source": [
    "# 벡터 v 를 행렬 x의 모든 행에 더하고자 함,\n",
    "# 그 결과는 행렬 y에 저장\n",
    "x = np.array([[1,2,3], [4,5,6], [7,8,9], [10, 11, 12]])\n",
    "print('x =\\n', x)\n",
    "v = np.array([1, 0, 1])\n",
    "y = np.empty_like(x)   # x와 동일한 shape를 가진 빈 행렬을 생성\n",
    "\n",
    "# 반복문을 이용해 x의 각 행에 v를 더함\n",
    "for i in range(4):\n",
    "    y[i, :] = x[i, :] + v\n",
    "\n",
    "print('y =\\n', y)"
   ]
  },
  {
   "cell_type": "markdown",
   "id": "812a9871",
   "metadata": {},
   "source": [
    "작동은 하지만 행렬 x가 커지면 느려지고, 코딩도 귀찮다. 다음으로 생각할 수 있는 방법은 벡터 v를 반복해서 x와 같은 크기로 만들고 vv에 저장한 다음에 x아 vv의 요소합 (elementwise sum)을 하는 것이다:"
   ]
  },
  {
   "cell_type": "code",
   "execution_count": 174,
   "id": "06618aa6",
   "metadata": {},
   "outputs": [
    {
     "name": "stdout",
     "output_type": "stream",
     "text": [
      "[[1 0 1]\n",
      " [1 0 1]\n",
      " [1 0 1]\n",
      " [1 0 1]]\n"
     ]
    }
   ],
   "source": [
    "vv = np.tile(v, (4, 1))  # x 행의 수만큼 v를 반복해서 vv를 생성\n",
    "print(vv)                 # Prints \"[[1 0 1]\n",
    "                         #          [1 0 1]\n",
    "                         #          [1 0 1]\n",
    "                         #          [1 0 1]]\""
   ]
  },
  {
   "cell_type": "code",
   "execution_count": 175,
   "id": "475524c1",
   "metadata": {},
   "outputs": [
    {
     "name": "stdout",
     "output_type": "stream",
     "text": [
      "[[ 2  2  4]\n",
      " [ 5  5  7]\n",
      " [ 8  8 10]\n",
      " [11 11 13]]\n"
     ]
    }
   ],
   "source": [
    "y = x + vv  # x와 vv를 요소합\n",
    "print(y)"
   ]
  },
  {
   "cell_type": "markdown",
   "id": "2fb2b8bf",
   "metadata": {},
   "source": [
    "Numpy가 제공하는 브로드캐스팅(broadcasting)을 이용하면 쉽게 구현이 가능:"
   ]
  },
  {
   "cell_type": "code",
   "execution_count": 176,
   "id": "9349ee2d",
   "metadata": {},
   "outputs": [
    {
     "name": "stdout",
     "output_type": "stream",
     "text": [
      "[[ 2  2  4]\n",
      " [ 5  5  7]\n",
      " [ 8  8 10]\n",
      " [11 11 13]]\n"
     ]
    }
   ],
   "source": [
    "import numpy as np # 패키지 불러오기\n",
    "\n",
    "x = np.array([[1,2,3], [4,5,6], [7,8,9], [10, 11, 12]])\n",
    "v = np.array([1, 0, 1])\n",
    "y = x + v  # x와 v의 shape이 다르기 때문에 자동으로 브로드캐스팅이 작동\n",
    "print(y)"
   ]
  },
  {
   "cell_type": "markdown",
   "id": "cd25e078",
   "metadata": {},
   "source": [
    "y = x + v에서 x의 shape은 (4, 3) 이고 v의 shape은 (3,) 이므로 브로드캐스팅이 작동, v의 shape가 (4, 3)이 되도록 v를 복사한 후에, 요소합을 구하게 된다.\n",
    "\n",
    "브로드캐스팅의 동작원칙은 다음과 같다:\n",
    "\n",
    "1. 만일 두 배열의 차수가 다르면 차수가 적은 배열을 늘려서 shape를 맞춰서 연산을 한다.\n",
    "2. 이 때 두 배열이 한 차원에서 크기가 동일하거나 다른 쪽의 크기가 1이면 호환가능(compatible)하다.\n",
    "3. 두 배열이 모든 차원에서 호환가능하면 브로드캐스팅이 된다.\n",
    "4. 한 배열의 어떤 차원의 크기가 1이고 다른 배열의 같은 차원의 크기가 1보다 크면 큰 쪽에 맞춰서 복사된다.\n",
    "\n",
    "상세한 내용은 다음을 참조 documentation or this explanation.\n",
    "\n",
    "브로드캐스팅을 지원하는 함수를 universal function이라고 한다. universal function의 모든 리스트는 다음을 참조 documentation.\n",
    "\n",
    "브로드캐스팅의 다른 예제:"
   ]
  },
  {
   "cell_type": "code",
   "execution_count": 177,
   "id": "45fb057d",
   "metadata": {},
   "outputs": [
    {
     "name": "stdout",
     "output_type": "stream",
     "text": [
      "[[ 4  5]\n",
      " [ 8 10]\n",
      " [12 15]]\n"
     ]
    }
   ],
   "source": [
    "v = np.array([1,2,3])  # v has shape (3,)\n",
    "w = np.array([4,5])    # w has shape (2,)\n",
    "# 위의 경우, v와 w의 shape이 다르므로 요소곱을 하는 경우 에러가 발생함\n",
    "# 먼저 v를 열로 바꿔서 shape을 (3, 1)로 만든 후에 브로드캐스팅을 적용하면 v와 w가 (3, 2)로 확장되고\n",
    "# 그 다음 요소곱을 실행\n",
    "print(np.reshape(v, (3, 1)) * w)"
   ]
  },
  {
   "cell_type": "code",
   "execution_count": 178,
   "id": "5495aa6b",
   "metadata": {},
   "outputs": [
    {
     "name": "stdout",
     "output_type": "stream",
     "text": [
      "x =\n",
      " [[1 2 3]\n",
      " [4 5 6]]\n",
      "result =\n",
      " [[2 4 6]\n",
      " [5 7 9]]\n"
     ]
    }
   ],
   "source": [
    "# 벡터를 행렬의 각 행에 더하고자 하는 경우\n",
    "x = np.array([[1,2,3], [4,5,6]])\n",
    "print('x =\\n', x)\n",
    "# x는 (2, 3)이고 v는 (3,)이므로 v를 (2, 3)으로 브로드캐스트\n",
    "\n",
    "print('result =\\n', x + v)"
   ]
  },
  {
   "cell_type": "code",
   "execution_count": 179,
   "id": "f588d243",
   "metadata": {},
   "outputs": [
    {
     "name": "stdout",
     "output_type": "stream",
     "text": [
      "[[ 5  6  7]\n",
      " [ 9 10 11]]\n"
     ]
    }
   ],
   "source": [
    "# x의 각 행에 w를 더하고 싶다면?\n",
    "# x는 (2, 3), w는 크기가 2인 벡터이므로 차원이 맞지 않음\n",
    "# w를 reshape해서 (2, 1)로 바꾸면 브로드캐스팅이 가능\n",
    "print(x + np.reshape(w, (2, 1)))"
   ]
  },
  {
   "cell_type": "code",
   "execution_count": 180,
   "id": "8623e26f",
   "metadata": {},
   "outputs": [
    {
     "name": "stdout",
     "output_type": "stream",
     "text": [
      "[[ 2  4  6]\n",
      " [ 8 10 12]]\n"
     ]
    }
   ],
   "source": [
    "# x 행렬에 상수 곱을 하고 싶을 때\n",
    "# Numpy는 스칼라를 shape ()로 취급;\n",
    "# 따라서 x에 맞춰 스칼라를 shape (2, 3)으로 브로드캐스팅이 가능\n",
    "print(x * 2)"
   ]
  },
  {
   "cell_type": "markdown",
   "id": "95a9cc3f",
   "metadata": {},
   "source": [
    "브로드캐스팅은 코드를 간략하게 할 뿐 아니라 속도도 향상되므로 가능하면 항상 사용하는 것이 바람직하다.\n",
    "\n",
    "Numpy에 대한 상세한 내용은 다음을 참조 numpy reference"
   ]
  }
 ],
 "metadata": {
  "kernelspec": {
   "display_name": "Python 3",
   "language": "python",
   "name": "python3"
  },
  "language_info": {
   "codemirror_mode": {
    "name": "ipython",
    "version": 3
   },
   "file_extension": ".py",
   "mimetype": "text/x-python",
   "name": "python",
   "nbconvert_exporter": "python",
   "pygments_lexer": "ipython3",
   "version": "3.8.8"
  }
 },
 "nbformat": 4,
 "nbformat_minor": 5
}
