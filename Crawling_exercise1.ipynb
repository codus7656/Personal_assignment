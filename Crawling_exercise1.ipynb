{
 "cells": [
  {
   "cell_type": "markdown",
   "id": "11d6f52d",
   "metadata": {},
   "source": [
    "# 웹 크롤링1 - Static Crawling\n",
    "201921529 김채연"
   ]
  },
  {
   "cell_type": "markdown",
   "id": "7be1b2c9",
   "metadata": {},
   "source": [
    "# 1. urllib\n",
    "- 파이썬은 웹 사이트에 있는 데이터를 추출하기 위해 'urllib' 라이브러리 사용\n",
    "- 이를 이용해 HTTP 또는 FTP를 사용해 데이터 다운로드 가능\n",
    "- urllib은 URL을 다루는 모듈을 모아 놓은 패키지\n",
    "- urllib.request 모듈은 웹 사이트에 있는 데이터에 접근하는 기능 제공, 또한 인증, 리다렉트, 쿠키처럼 인터넷을 이용한 다양한 요청과 처리가 가능"
   ]
  },
  {
   "cell_type": "code",
   "execution_count": 3,
   "id": "bcfbafa7",
   "metadata": {},
   "outputs": [],
   "source": [
    "# urllib 라이브러리에서 request 모듈 불러오기\n",
    "from urllib import request"
   ]
  },
  {
   "cell_type": "markdown",
   "id": "bee014fa",
   "metadata": {},
   "source": [
    "## 1.1. urllib.request를 이용한 다운로드\n",
    "- urllib.request 모듈에 있는 urlretrieve() 함수 이용\n",
    "- 다음의 코드는 PNG 파일을 test.png 라는 이름의 파일로 저장하는 예제임"
   ]
  },
  {
   "cell_type": "code",
   "execution_count": 4,
   "id": "fdbf28d0",
   "metadata": {},
   "outputs": [
    {
     "name": "stdout",
     "output_type": "stream",
     "text": [
      "저장되었습니다\n"
     ]
    }
   ],
   "source": [
    "# 라이브러리 읽어들이기 \n",
    "from urllib import request\n",
    "\n",
    "url=\"http://uta.pw/shodou/img/28/214.png\"\n",
    "savename=\"test.png\"\n",
    "\n",
    "# url에 저장된 png파일을 test.png라는 이름의 파일로 저장하기\n",
    "request.urlretrieve(url, savename)\n",
    "print(\"저장되었습니다\")"
   ]
  },
  {
   "cell_type": "markdown",
   "id": "2545c3d7",
   "metadata": {},
   "source": [
    "## 1.2. urlopen으로 파일에 저장하는 방법\n",
    "- request.urlopen()은 메모리에 데이터를 올린 후 파일에 저장하게 된다."
   ]
  },
  {
   "cell_type": "code",
   "execution_count": 5,
   "id": "dac63c2f",
   "metadata": {},
   "outputs": [
    {
     "name": "stdout",
     "output_type": "stream",
     "text": [
      "저장되었습니다..\n"
     ]
    }
   ],
   "source": [
    "# URL과 저장경로 지정하기\n",
    "url = \"http://uta.pw/shodou/img/28/214.png\"\n",
    "savename = \"test1.png\"\n",
    "#다운로드\n",
    "mem = request.urlopen(url).read()\n",
    "#파일로 저장하기, wb는 쓰기와 바이너리모드\n",
    "with open(savename, mode=\"wb\") as f:\n",
    "    f.write(mem)\n",
    "    print(\"저장되었습니다..\")"
   ]
  },
  {
   "cell_type": "markdown",
   "id": "59d072a3",
   "metadata": {},
   "source": [
    "## 1.3. API 사용하기\n",
    "\n",
    "### 클라이언트 접속 정보 출력 (기본)\n",
    "- API는 사용자의 요청에 따라 정보를 반환하는 프로그램\n",
    "- IP 주소, UserAgent 등 클라이언트 접속정보 출력하는 \"IP 확인  API\" 접근해서 정보를 추출하는 프로그램"
   ]
  },
  {
   "cell_type": "code",
   "execution_count": 6,
   "id": "13687800",
   "metadata": {},
   "outputs": [
    {
     "name": "stdout",
     "output_type": "stream",
     "text": [
      "[ip]\n",
      "API_URI=http://api.aoikujira.com/ip/get.php\n",
      "REMOTE_ADDR=218.148.96.114\n",
      "REMOTE_HOST=218.148.96.114\n",
      "REMOTE_PORT=54958\n",
      "HTTP_HOST=api.aoikujira.com\n",
      "HTTP_USER_AGENT=Python-urllib/3.8\n",
      "HTTP_ACCEPT_LANGUAGE=\n",
      "HTTP_ACCEPT_CHARSET=\n",
      "SERVER_PORT=80\n",
      "FORMAT=ini\n",
      "\n",
      "\n"
     ]
    }
   ],
   "source": [
    "#데이터 읽어들이기\n",
    "url=\"http://api.aoikujira.com/ip/ini\"\n",
    "res=request.urlopen(url)\n",
    "data=res.read()\n",
    "\n",
    "#바이너리를 문자열로 변환하기\n",
    "text=data.decode(\"utf-8\")\n",
    "print(text)"
   ]
  },
  {
   "cell_type": "markdown",
   "id": "673d7cf3",
   "metadata": {},
   "source": [
    "# 2. BeautifulSoup\n",
    "\n",
    "- 스크레이핑(Scraping or Crawling)이란 웹 사이트에서 데이터를 추출하고, 원하는 정보를 추출하는 것을 의미\n",
    "- **BeautifulSoup**란 파이썬으로 스크레이핑할 때 사용되는 라이브러리로서 HTML/XML에서 정보를 추출할 수 있도록 도와줌. 그러나 다운로드 기능은 없음.\n",
    "- 파이썬 라이브러리는 pip 명령어를 이용해 설치 가능. Python Package Index(PyPI)에 있는 패키지 명령어를 한줄로 설치 가능\n",
    "- URL (http://pypi.python.org/pypi)\n"
   ]
  },
  {
   "cell_type": "code",
   "execution_count": 11,
   "id": "39f364b3",
   "metadata": {},
   "outputs": [
    {
     "name": "stdout",
     "output_type": "stream",
     "text": [
      "Requirement already satisfied: beautifulsoup4 in c:\\users\\chaeyeon\\anaconda3\\lib\\site-packages (4.9.3)\n",
      "Requirement already satisfied: soupsieve>1.2 in c:\\users\\chaeyeon\\anaconda3\\lib\\site-packages (from beautifulsoup4) (2.2.1)\n",
      "Note: you may need to restart the kernel to use updated packages.\n"
     ]
    }
   ],
   "source": [
    "pip install beautifulsoup4"
   ]
  },
  {
   "cell_type": "code",
   "execution_count": 7,
   "id": "c60762d8",
   "metadata": {},
   "outputs": [],
   "source": [
    "from bs4 import BeautifulSoup"
   ]
  },
  {
   "cell_type": "code",
   "execution_count": 8,
   "id": "75ca9f55",
   "metadata": {},
   "outputs": [],
   "source": [
    "# 예제 HTML\n",
    "\n",
    "html = \"\"\"\n",
    "<html><body>\n",
    "  <h1>스크레이핑이란?</h1>\n",
    "  <p>웹 페이지를 분석하는 것</p>\n",
    "  <p>원하는 부분을 추출하는 것</p>\n",
    "</body></html>\n",
    "\"\"\""
   ]
  },
  {
   "cell_type": "markdown",
   "id": "a98635c5",
   "metadata": {},
   "source": [
    "## 2.1. 기본 사용\n",
    "- 다음은 Beautifulsoup를 이용하여 웹사이트로부터 HTML을 가져와 문자열로 만들어 이용하는 예제\n",
    "- h1 태그를 접근하기 위해 html-body-h1 구조를 사용하여 soup.html.body.h1 이런식으로 이용하게 됨.\n",
    "- p 태그는 두개가 있어 soup.html.body.p 한 후 next_sibling을 두번 이용하여 다음 p를 추출. 한번만 하면 그 다음 공백이 추출됨.\n",
    "- HTML 태그가 복잡한 경우 이런 방식으로 계속 진행하기는 적합하지 않음."
   ]
  },
  {
   "cell_type": "markdown",
   "id": "2ffd6d52",
   "metadata": {},
   "source": [
    "### 2) HTML 분석하기"
   ]
  },
  {
   "cell_type": "code",
   "execution_count": 9,
   "id": "4e4cfa2e",
   "metadata": {},
   "outputs": [],
   "source": [
    "## BeautifulSoup으로 html소스를 python객체로 변환하기\n",
    "## 첫 인자는 html소스코드, 두 번째 인자는 어떤 parser를 이용할지 명시.\n",
    "## Python 내장 html.parser를 이용함.\n",
    "soup = BeautifulSoup(html, 'html.parser')"
   ]
  },
  {
   "cell_type": "markdown",
   "id": "199abe39",
   "metadata": {},
   "source": [
    "### 3) 원하는 부분 추출하기"
   ]
  },
  {
   "cell_type": "code",
   "execution_count": 10,
   "id": "5202ff55",
   "metadata": {},
   "outputs": [],
   "source": [
    "# html의 각 태그의 데이터에 접근하기\n",
    "h1 = soup.html.body.h1\n",
    "p1 = soup.html.body.p\n",
    "p2 = p1.next_sibling.next_sibling"
   ]
  },
  {
   "cell_type": "markdown",
   "id": "62f89636",
   "metadata": {},
   "source": [
    "### 4) 요소의 글자 출력하기"
   ]
  },
  {
   "cell_type": "code",
   "execution_count": 11,
   "id": "d4e45f9a",
   "metadata": {},
   "outputs": [
    {
     "name": "stdout",
     "output_type": "stream",
     "text": [
      "h1 = 스크레이핑이란?\n",
      "p  = 웹 페이지를 분석하는 것\n",
      "p  = 원하는 부분을 추출하는 것\n"
     ]
    }
   ],
   "source": [
    "# 위에서 제시된 예제 HTML의 각 요소의 글자 출력하기\n",
    "print(f\"h1 = {h1.string}\")\n",
    "print(f\"p  = {p1.string}\")\n",
    "print(f\"p  = {p2.string}\")"
   ]
  },
  {
   "cell_type": "markdown",
   "id": "ea03df4a",
   "metadata": {},
   "source": [
    "## 2.2. 요소를 찾는 method\n",
    "\n",
    "### 단일 element 추출 : **find()**\n",
    "\n",
    "BeautifulSoup는 루트부터 하나하나 요소를 찾는 방법 말고도 find()라는 메소드를 제공함"
   ]
  },
  {
   "cell_type": "code",
   "execution_count": 12,
   "id": "6a82295e",
   "metadata": {},
   "outputs": [],
   "source": [
    "soup = BeautifulSoup(html, 'html.parser')"
   ]
  },
  {
   "cell_type": "markdown",
   "id": "2abe295b",
   "metadata": {},
   "source": [
    "- 1) **find()** 메서드로 원하는 부분 추출하기"
   ]
  },
  {
   "cell_type": "code",
   "execution_count": 13,
   "id": "c9de3ae7",
   "metadata": {},
   "outputs": [
    {
     "name": "stdout",
     "output_type": "stream",
     "text": [
      "<h1>스크레이핑이란?</h1>\n"
     ]
    }
   ],
   "source": [
    "title = soup.find(\"h1\")\n",
    "body  = soup.find(\"p\")\n",
    "\n",
    "# h1 부분만 추출하기\n",
    "print(title)"
   ]
  },
  {
   "cell_type": "markdown",
   "id": "018cea97",
   "metadata": {},
   "source": [
    "- 2) 텍스트 부분 출력하기"
   ]
  },
  {
   "cell_type": "code",
   "execution_count": 14,
   "id": "e9a544c2",
   "metadata": {},
   "outputs": [
    {
     "name": "stdout",
     "output_type": "stream",
     "text": [
      "#title = 스크레이핑이란?\n",
      "#body = 웹 페이지를 분석하는 것\n"
     ]
    }
   ],
   "source": [
    "# h1의 텍스트 부분 출력하기\n",
    "print(f\"#title = {title.string}\" )\n",
    "# p의 텍스트 부분 출력하기\n",
    "print(f\"#body = {body.string}\")"
   ]
  },
  {
   "cell_type": "markdown",
   "id": "e1b5de0c",
   "metadata": {},
   "source": [
    "### 복수 elements 추출: find_all()\n",
    "\n",
    "여러개의 태그를 한번에 추출하고자 할때 사용함. 다음의 예제에서는 여러개의 태그를 추출하는 법을 보여주고 있음"
   ]
  },
  {
   "cell_type": "code",
   "execution_count": 15,
   "id": "6245080c",
   "metadata": {},
   "outputs": [],
   "source": [
    "# 예제 html\n",
    "html = \"\"\"\n",
    "<html><body>\n",
    "  <ul>\n",
    "    <li><a href=\"http://www.naver.com\">naver</a></li>\n",
    "    <li><a href=\"http://www.daum.net\">daum</a></li>\n",
    "  </ul>\n",
    "</body></html>\n",
    "\"\"\"\n",
    "\n",
    "soup = BeautifulSoup(html, 'html.parser')"
   ]
  },
  {
   "cell_type": "markdown",
   "id": "cbebc1d0",
   "metadata": {},
   "source": [
    "- 1) **find_all()** 메서드로 추출하기"
   ]
  },
  {
   "cell_type": "code",
   "execution_count": 16,
   "id": "b405aa0c",
   "metadata": {},
   "outputs": [
    {
     "name": "stdout",
     "output_type": "stream",
     "text": [
      "[<a href=\"http://www.naver.com\">naver</a>, <a href=\"http://www.daum.net\">daum</a>] 2\n"
     ]
    }
   ],
   "source": [
    "# \"a\" 해당 모든 태그를 불러오기\n",
    "links = soup.find_all(\"a\")\n",
    "# 해당되는 태그들과 해당되는 태그들의 수 출력하기\n",
    "print(links, len(links))"
   ]
  },
  {
   "cell_type": "markdown",
   "id": "ba025153",
   "metadata": {},
   "source": [
    "- 2) 링크 목록 출력하기"
   ]
  },
  {
   "cell_type": "code",
   "execution_count": 17,
   "id": "cefacb97",
   "metadata": {},
   "outputs": [
    {
     "name": "stdout",
     "output_type": "stream",
     "text": [
      "naver > http://www.naver.com\n",
      "daum > http://www.daum.net\n"
     ]
    }
   ],
   "source": [
    "for a in links:\n",
    "    href = a.attrs['href'] # attrs 속성에서 href의 속성에 있는 속성값을 추출\n",
    "    text = a.string  # 문자열 추출하기\n",
    "    print(text, \">\", href)"
   ]
  },
  {
   "cell_type": "markdown",
   "id": "09730b27",
   "metadata": {},
   "source": [
    "# 3. Css Selector\n",
    "\n",
    "Css Selector란, 웹상의 요소에 css를 적용하기 위한 문법으로, 즉 요소를 선택하기 위한 패턴입니다.\n",
    "\n",
    "출처: https://www.w3schools.com/cssref/css_selectors.asp\n",
    "\n",
    "복잡하게 구조화된 웹 사이트에서 자신이 원하는 데이터를 가져오기 위해서는 Css Selector에 대한 이해가 필요합니다."
   ]
  },
  {
   "cell_type": "markdown",
   "id": "109251c7",
   "metadata": {},
   "source": [
    "|서식|설명|\n",
    "|----|---|\n",
    "|*|모든 요소를 선택|\n",
    "|<요소 이름>|요소 이름을 기반으로 선택|\n",
    "|<클래스 이름>|클래스 이름을 기반으로 선택|\n",
    "| #<id 이름>|id 속성을 기반으로 선택|"
   ]
  },
  {
   "cell_type": "markdown",
   "id": "c01c1693",
   "metadata": {},
   "source": [
    "##  BeautifulSoup에서 Css Selector 사용하기\n",
    "\n",
    "BeautifulSoup에서는 Css Selector로 값을 가져올 수 있도록 find와는 다른 다음과 같은 메서드를 제공합니다."
   ]
  },
  {
   "cell_type": "markdown",
   "id": "8bd45c4c",
   "metadata": {},
   "source": [
    "|메서드|설명|\n",
    "|------|----|\n",
    "|soup.select_one(선택자)|CSS 선택자로 요소 하나를 추출합니다.|\n",
    "|soup.select(선택자)|CSS 선택자로 요소 여러 개를 리스트를 추출합니다.|"
   ]
  },
  {
   "cell_type": "code",
   "execution_count": 18,
   "id": "1449209f",
   "metadata": {},
   "outputs": [],
   "source": [
    "html = \"\"\"\n",
    "<html><body>\n",
    "<div id=\"meigen\">\n",
    "  <h1>위키북스 도서</h1>\n",
    "  <ul class=\"items\">\n",
    "    <li>유니티 게임 이펙트 입문</li>\n",
    "    <li>스위프트로 시작하는 아이폰 앱 개발 교과서</li>\n",
    "    <li>모던 웹사이트 디자인의 정석</li>\n",
    "  </ul>\n",
    "</div>\n",
    "</body></html>\n",
    "\"\"\"\n",
    "\n",
    "# HTML 분석하기 \n",
    "soup = BeautifulSoup(html, 'html.parser')"
   ]
  },
  {
   "cell_type": "markdown",
   "id": "f642eb05",
   "metadata": {},
   "source": [
    "- 필요한 부분을 CSS 쿼리로 추출하기"
   ]
  },
  {
   "cell_type": "code",
   "execution_count": 19,
   "id": "1733feea",
   "metadata": {},
   "outputs": [
    {
     "name": "stdout",
     "output_type": "stream",
     "text": [
      "h1 = 위키북스 도서\n",
      "li = 유니티 게임 이펙트 입문\n",
      "li = 스위프트로 시작하는 아이폰 앱 개발 교과서\n",
      "li = 모던 웹사이트 디자인의 정석\n"
     ]
    }
   ],
   "source": [
    "# 타이틀 부분 추출하기 --- (※3)\n",
    "h1 = soup.select_one(\"div#meigen > h1\").string\n",
    "print(f\"h1 = {h1}\")\n",
    "\n",
    "# 목록 부분 추출하기 --- (※4)\n",
    "li_list = soup.select(\"div#meigen > ul.items > li\")\n",
    "for li in li_list:\n",
    "  print(f\"li = {li.string}\")"
   ]
  },
  {
   "cell_type": "markdown",
   "id": "31b036fd",
   "metadata": {},
   "source": [
    "# 4. 활용 예제\n",
    "앞서 배운 urllib과 BeautifulSoup를 조합하면, 웹스크레이핑 및 API 요청 작업을 쉽게 수행하실 수 있습니다.\n",
    "\n",
    "1. URL을 이용하여 웹으로부터 html을 읽어들임 (**urllib**)\n",
    "2. html 분석 및 원하는 데이터를 추출 (**BeautifulSoup**)\n"
   ]
  },
  {
   "cell_type": "code",
   "execution_count": 20,
   "id": "88d77871",
   "metadata": {},
   "outputs": [],
   "source": [
    "from bs4 import BeautifulSoup\n",
    "from urllib import request, parse"
   ]
  },
  {
   "cell_type": "markdown",
   "id": "17945508",
   "metadata": {},
   "source": [
    "## 4.1. 네이버 금융 - 환율 정보\n",
    "- 다양한 금융 정보가 공개돼 있는 \"네이버 금융\"에서 원/달러 환율 정보를 추출해보기\n",
    "- 네이버 금융의 시장 지표 페이지 https://finance.naver.com/marketindex/\n",
    "- 다음은 원/달러 환율 정보를 추출하는 프로그램임"
   ]
  },
  {
   "cell_type": "markdown",
   "id": "8ed3fdea",
   "metadata": {},
   "source": [
    "### 1) HTML 가져오기"
   ]
  },
  {
   "cell_type": "code",
   "execution_count": 21,
   "id": "f89d0cc6",
   "metadata": {},
   "outputs": [],
   "source": [
    "# 네이버 금융의 시장 지표 url\n",
    "url = \"https://finance.naver.com/marketindex/\"\n",
    "res = request.urlopen(url)"
   ]
  },
  {
   "cell_type": "markdown",
   "id": "24546d8b",
   "metadata": {},
   "source": [
    "### 2) HTML 분석하기"
   ]
  },
  {
   "cell_type": "code",
   "execution_count": 22,
   "id": "0cbc0c85",
   "metadata": {},
   "outputs": [],
   "source": [
    "soup = BeautifulSoup(res, \"html.parser\")"
   ]
  },
  {
   "cell_type": "markdown",
   "id": "1fa15584",
   "metadata": {},
   "source": [
    "### 3) 원하는 데이터 추출하기"
   ]
  },
  {
   "cell_type": "code",
   "execution_count": 23,
   "id": "2759fd68",
   "metadata": {},
   "outputs": [
    {
     "name": "stdout",
     "output_type": "stream",
     "text": [
      "usd/krw = 1,184.00\n"
     ]
    }
   ],
   "source": [
    "# soup.select_one()을 사용해 CSS 선택자로 요소 하나를 추출\n",
    "price = soup.select_one(\"div.head_info > span.value\").string\n",
    "# 미국의 환전 고시 환율 값 추출\n",
    "print(\"usd/krw =\", price) "
   ]
  },
  {
   "cell_type": "markdown",
   "id": "9d7bc102",
   "metadata": {},
   "source": [
    "## 4.2. 기상청 RSS\n",
    "- 기상청 RSS에서 특정 내용을 추출하는 예제\n",
    "- 기상청 RSS에서 XML 데이터를 추출하고 XML 내용을 출력\n",
    "- 기상청의 RSS 서비스에 지역 번호를 지정하여 데이터 요청해보기 http://www.kma.go.kr/weather/forecast/mid-term-rss3.jsp\n",
    "- 참고: 기상청 RSS http://www.kma.go.kr/weather/lifenindustry/service_rss.jsp"
   ]
  },
  {
   "cell_type": "markdown",
   "id": "a787e39d",
   "metadata": {},
   "source": [
    "|매개변수|의미|\n",
    "|-------|----|\n",
    "|stnid|기상정보를 알고 싶은 지역을 지정|"
   ]
  },
  {
   "cell_type": "markdown",
   "id": "57933356",
   "metadata": {},
   "source": [
    "- 지역번호는 다음과 같음\n",
    "\n",
    "|지역|지역번호|지역|지역번호|\n",
    "|----|--------|----|--------|\n",
    "|전국\t|108\t|전라북도|\t146|\n",
    "|서울/경기도|\t109\t|전라남도\t|156|\n",
    "|강원도\t|105\t|경상북도\t|143|\n",
    "|충청북도\t|131\t|경상남도\t|159|\n",
    "|충청남도\t|133\t|제주특별자치도\t|184|\n",
    "\n",
    "- 파이썬으로 요청 전용 매개변수를 만들 때는 urllib.parse 모듈의 urlencode() 함수를 사용해 매개변수를 URL로 인코딩한다.\n"
   ]
  },
  {
   "cell_type": "markdown",
   "id": "c87da3a0",
   "metadata": {},
   "source": [
    "### 1) HTML 가져오기"
   ]
  },
  {
   "cell_type": "code",
   "execution_count": 24,
   "id": "9b4279fd",
   "metadata": {},
   "outputs": [
    {
     "name": "stdout",
     "output_type": "stream",
     "text": [
      "url= http://www.kma.go.kr/weather/forecast/mid-term-rss3.jsp?stnId=109\n"
     ]
    }
   ],
   "source": [
    "# 기상청의 RSS 서비스에 지역 번호를 지정하여 데이터 요청해보기\n",
    "url = \"http://www.kma.go.kr/weather/forecast/mid-term-rss3.jsp\"\n",
    "\n",
    "#매개변수를 URL로 인코딩한다. (서울/경기 지역번호 109입력)\n",
    "values = {\n",
    "    'stnId':'109'\n",
    "}\n",
    "\n",
    "params=parse.urlencode(values)\n",
    "url += \"?\"+params # URL에 매개변수 추가\n",
    "print(\"url=\", url)\n",
    "\n",
    "res = request.urlopen(url)"
   ]
  },
  {
   "cell_type": "markdown",
   "id": "2ace643d",
   "metadata": {},
   "source": [
    "### 2) HTML 분석하기"
   ]
  },
  {
   "cell_type": "code",
   "execution_count": 25,
   "id": "8949d3c1",
   "metadata": {},
   "outputs": [],
   "source": [
    "soup = BeautifulSoup(res, \"html.parser\")"
   ]
  },
  {
   "cell_type": "markdown",
   "id": "75b92990",
   "metadata": {},
   "source": [
    "### 3) 원하는 데이터 추출하기"
   ]
  },
  {
   "cell_type": "code",
   "execution_count": 26,
   "id": "879b2adc",
   "metadata": {},
   "outputs": [
    {
     "name": "stdout",
     "output_type": "stream",
     "text": [
      "서울,경기도 육상중기예보\n",
      "○ (강수) 29일(수) 오후에는 비가 내리겠습니다.<br />○ (기온) 이번 예보기간 아침최저기온은 14~20도로 어제(21일, 19~21도)와 비슷하거나 낮겠고, 낮최고기온은 24~27도로 어제(21일, 25~27도)와 비슷하겠습니다.<br />○ (해상) 서해중부해상의 물결은 0.5~2.0m로 일겠습니다.<br />○ (주말전망) 25일(토)과 26일(일)은 구름많겠습니다. 아침최저기온은 14~19도, 낮최고기온은 25~27도가 되겠습니다.\n"
     ]
    }
   ],
   "source": [
    "# find() 메서드로 원하는 부분 추출하기\n",
    "header = soup.find(\"header\")\n",
    "\n",
    "title = header.find(\"title\").text\n",
    "wf = header.find(\"wf\").text\n",
    "\n",
    "print(title)\n",
    "print(wf)"
   ]
  },
  {
   "cell_type": "markdown",
   "id": "38e55886",
   "metadata": {},
   "source": [
    "- css selector 기반"
   ]
  },
  {
   "cell_type": "code",
   "execution_count": 27,
   "id": "759c8ccd",
   "metadata": {},
   "outputs": [
    {
     "name": "stdout",
     "output_type": "stream",
     "text": [
      "서울,경기도 육상중기예보\n",
      "○ (강수) 29일(수) 오후에는 비가 내리겠습니다.<br />○ (기온) 이번 예보기간 아침최저기온은 14~20도로 어제(21일, 19~21도)와 비슷하거나 낮겠고, 낮최고기온은 24~27도로 어제(21일, 25~27도)와 비슷하겠습니다.<br />○ (해상) 서해중부해상의 물결은 0.5~2.0m로 일겠습니다.<br />○ (주말전망) 25일(토)과 26일(일)은 구름많겠습니다. 아침최저기온은 14~19도, 낮최고기온은 25~27도가 되겠습니다.\n"
     ]
    }
   ],
   "source": [
    "# CSS 선택자로 요소 하나 추출하기\n",
    "# 위에 작성한 코드 결과와 같은 것을 확인할 수 있음.\n",
    "title = soup.select_one(\"header > title\").text\n",
    "wf = header.select_one(\"header wf\").text\n",
    "\n",
    "print(title)\n",
    "print(wf)"
   ]
  },
  {
   "cell_type": "markdown",
   "id": "d36e424b",
   "metadata": {},
   "source": [
    "## 4.3. 윤동주 작가의 작품 목록\n",
    "\n",
    "- 위키문헌 (https://ko.wikisource.org/wiki) 에 공개되어 있는 윤동주의 작품목록을 가져오기\n",
    "- 윤동주 위키 (https://ko.wikisource.org/wiki/%EC%A0%80%EC%9E%90:%EC%9C%A4%EB%8F%99%EC%A3%BC)\n",
    "- 하늘과 바람과 시 부분을 선택한 후 오른쪽 마우스 이용해 copy selector로 카피하면 다음의 CSS 선택자가 카피됨\n",
    "\n",
    "**#mw-content-text > div > ul:nth-child(6) > li > b > a**\n",
    "\n",
    "- nth-child(n) 은 n 번째 요소를 의미 즉 6번째 요소를 의미, **#mw-content-text** 내부에 있는 url 태그는 모두 작품과 관련된 태그. 따라서 따로 구분할 필요는 없으며 생략해도 됨. BeautifulSoup는 nth-child 지원하지 않음\n",
    "- Recall PR7 Problem1"
   ]
  },
  {
   "cell_type": "code",
   "execution_count": 28,
   "id": "43e1aa93",
   "metadata": {},
   "outputs": [
    {
     "name": "stdout",
     "output_type": "stream",
     "text": [
      "- 하늘과 바람과 별과 시\n",
      "- 증보판\n",
      "- 서시\n",
      "- 자화상\n",
      "- 소년\n",
      "- 눈 오는 지도\n",
      "- 돌아와 보는 밤\n",
      "- 병원\n",
      "- 새로운 길\n",
      "- 간판 없는 거리\n",
      "- 태초의 아침\n",
      "- 또 태초의 아침\n",
      "- 새벽이 올 때까지\n",
      "- 무서운 시간\n",
      "- 십자가\n",
      "- 바람이 불어\n",
      "- 슬픈 족속\n",
      "- 눈감고 간다\n",
      "- 또 다른 고향\n",
      "- 길\n",
      "- 별 헤는 밤\n",
      "- 흰 그림자\n",
      "- 사랑스런 추억\n",
      "- 흐르는 거리\n",
      "- 쉽게 씌어진 시\n",
      "- 봄\n",
      "- 참회록\n",
      "- 간(肝)\n",
      "- 위로\n",
      "- 팔복\n",
      "- 못자는밤\n",
      "- 달같이\n",
      "- 고추밭\n",
      "- 아우의 인상화\n",
      "- 사랑의 전당\n",
      "- 이적\n",
      "- 비오는 밤\n",
      "- 산골물\n",
      "- 유언\n",
      "- 창\n",
      "- 바다\n",
      "- 비로봉\n",
      "- 산협의 오후\n",
      "- 명상\n",
      "- 소낙비\n",
      "- 한난계\n",
      "- 풍경\n",
      "- 달밤\n",
      "- 장\n",
      "- 밤\n",
      "- 황혼이 바다가 되어\n",
      "- 아침\n",
      "- 빨래\n",
      "- 꿈은 깨어지고\n",
      "- 산림\n",
      "- 이런날\n",
      "- 산상\n",
      "- 양지쪽\n",
      "- 닭\n",
      "- 가슴 1\n",
      "- 가슴 2\n",
      "- 비둘기\n",
      "- 황혼\n",
      "- 남쪽 하늘\n",
      "- 창공\n",
      "- 거리에서\n",
      "- 삶과 죽음\n",
      "- 초한대\n",
      "- 산울림\n",
      "- 해바라기 얼굴\n",
      "- 귀뚜라미와 나와\n",
      "- 애기의 새벽\n",
      "- 햇빛·바람\n",
      "- 반디불\n",
      "- 둘 다\n",
      "- 거짓부리\n",
      "- 눈\n",
      "- 참새\n",
      "- 버선본\n",
      "- 편지\n",
      "- 봄\n",
      "- 무얼 먹구 사나\n",
      "- 굴뚝\n",
      "- 햇비\n",
      "- 빗자루\n",
      "- 기왓장 내외\n",
      "- 오줌싸개 지도\n",
      "- 병아리\n",
      "- 조개껍질\n",
      "- 겨울\n",
      "- 트루게네프의 언덕\n",
      "- 달을 쏘다\n",
      "- 별똥 떨어진 데\n",
      "- 화원에 꽃이 핀다\n",
      "- 종시\n"
     ]
    }
   ],
   "source": [
    "# 뒤의 인코딩 부분은 \"저자:윤동주\"라는 의미입니다.\n",
    "# 따로 입력하지 말고 위키 문헌 홈페이지에 들어간 뒤에 주소를 복사해서 사용하세요.\n",
    "\n",
    "# 윤동주 위키 문헌 주소\n",
    "url = \"https://ko.wikisource.org/wiki/%EC%A0%80%EC%9E%90:%EC%9C%A4%EB%8F%99%EC%A3%BC\"\n",
    "res = request.urlopen(url)\n",
    "soup = BeautifulSoup(res, \"html.parser\")\n",
    "\n",
    "# #mw-content-text 바로 아래에 있는 \n",
    "# ul 태그 바로 아래에 있는\n",
    "# li 태그 아래에 있는\n",
    "# a 태그를 모두 선택합니다.(윤동주의 작품 목록 가져오기)\n",
    "a_list = soup.select(\"#mw-content-text   ul > li  a\")\n",
    "for a in a_list:\n",
    "    name = a.string\n",
    "    print(f\"- {name}\", )"
   ]
  },
  {
   "cell_type": "markdown",
   "id": "c4e1dd65",
   "metadata": {},
   "source": [
    "# 일반문제"
   ]
  },
  {
   "cell_type": "code",
   "execution_count": 29,
   "id": "39de09f3",
   "metadata": {},
   "outputs": [],
   "source": [
    "from bs4 import BeautifulSoup\n",
    "from urllib import request"
   ]
  },
  {
   "cell_type": "markdown",
   "id": "1d8a3e2a",
   "metadata": {},
   "source": [
    "# 1. 네이버 뉴스 헤드라인\n",
    "배운 내용을 바탕으로 네이버 뉴스(https://news.naver.com/)에서 헤드라인 뉴스의 제목을 추출해보고자 합니다.\n",
    "\n",
    "Q: 다음의 코드에 css selector를 추가하여 최신 기사의 헤드라인을 스크레이핑하는 코드를 완성하시오."
   ]
  },
  {
   "cell_type": "code",
   "execution_count": 36,
   "id": "3db1470e",
   "metadata": {},
   "outputs": [
    {
     "name": "stdout",
     "output_type": "stream",
     "text": [
      "\n",
      "                                        윤석열 측, 문준용 ‘혈세 지원’ 논평 하루 만에 철회\n",
      "                                    \n",
      "\n",
      "                                        한전, 전기료 8년 만에 올리나…내일 4분기 요금 발표\n",
      "                                    \n",
      "\n",
      "                                        이재명 \"수박 기득권\" 발칵…\"5·18 비하하는 일베 용어\"\n",
      "                                    \n",
      "\n",
      "                                        삼성·LG·현대차 美 최고 디자인상 싹쓸이\n",
      "                                    \n",
      "\n",
      "                                        윤석열 \"군필자, 부동산 청약시 가점 5점 주겠다\"\n",
      "                                    \n"
     ]
    }
   ],
   "source": [
    "# 네이버 뉴스 주소\n",
    "url = \"https://news.naver.com/\"\n",
    "\n",
    "res = request.urlopen(url)\n",
    "soup = BeautifulSoup(res, \"html.parser\")\n",
    "\n",
    "# 최신 기사의 헤드라인을 스크레이핑\n",
    "selector = \"#today_main_news > div.hdline_news > ul > li > div.hdline_article_tit > a\"\n",
    "for a in soup.select(selector):\n",
    "    title = a.text\n",
    "    print(title)"
   ]
  },
  {
   "cell_type": "markdown",
   "id": "cd985ea3",
   "metadata": {},
   "source": [
    "# 2. 시민의 소리 게시판\n",
    "다음은 서울시 대공원의 시민의 소리 게시판 입니다.\n",
    "\n",
    "https://www.sisul.or.kr/open_content/childrenpark/qna/qnaMsgList.do?pgno=1\n",
    "\n",
    "해당 페이지에 나타난 게시글들의 제목을 수집하고자 합니다.\n",
    "\n",
    "Q: 다음의 코드에 css selector를 추가하여 해당 페이지에서 게시글의 제목을 스크레이핑하는 코드를 완성하시오. 또한 과제 제출시 하단의 추가 내용을 참고하여 수집한 데이터를 csv 형태로 저장하여 해당 csv 파일도 함께 제출하시오."
   ]
  },
  {
   "cell_type": "code",
   "execution_count": 31,
   "id": "2888fc10",
   "metadata": {},
   "outputs": [
    {
     "name": "stdout",
     "output_type": "stream",
     "text": [
      "['강창수 해설사님 ', '동물해설사님 칭찬', '강창수 동물 해설사님', '놀이동산 푸드코트 김치가 중국산인 이유는?', '주슨트 설명 최고예요!!', '강창수 주슨트님 최고 !!', 'ZOOCENT 스케줄표?', '호주동물 호주설명 ', '호주및 호주동물 설명에 대해 ', '동물원'] ['https://www.sisul.or.kr/open_content/childrenpark/qna/qnaMsgDetail.do;jsessionid=h7qxKDgmAP5Fe6VN7G4ytvE1zLMmxHafNke11DzIpD4ZGPyEpcX8afFjB10dTWD4.etisw2_servlet_user?qnaid=QNAS20210920000001&pgno=1', 'https://www.sisul.or.kr/open_content/childrenpark/qna/qnaMsgDetail.do;jsessionid=h7qxKDgmAP5Fe6VN7G4ytvE1zLMmxHafNke11DzIpD4ZGPyEpcX8afFjB10dTWD4.etisw2_servlet_user?qnaid=QNAS20210919000004&pgno=1', 'https://www.sisul.or.kr/open_content/childrenpark/qna/qnaMsgDetail.do;jsessionid=h7qxKDgmAP5Fe6VN7G4ytvE1zLMmxHafNke11DzIpD4ZGPyEpcX8afFjB10dTWD4.etisw2_servlet_user?qnaid=QNAS20210919000003&pgno=1', 'https://www.sisul.or.kr/open_content/childrenpark/qna/qnaMsgDetail.do;jsessionid=h7qxKDgmAP5Fe6VN7G4ytvE1zLMmxHafNke11DzIpD4ZGPyEpcX8afFjB10dTWD4.etisw2_servlet_user?qnaid=QNAS20210918000002&pgno=1', 'https://www.sisul.or.kr/open_content/childrenpark/qna/qnaMsgDetail.do;jsessionid=h7qxKDgmAP5Fe6VN7G4ytvE1zLMmxHafNke11DzIpD4ZGPyEpcX8afFjB10dTWD4.etisw2_servlet_user?qnaid=QNAS20210909000001&pgno=1', 'https://www.sisul.or.kr/open_content/childrenpark/qna/qnaMsgDetail.do;jsessionid=h7qxKDgmAP5Fe6VN7G4ytvE1zLMmxHafNke11DzIpD4ZGPyEpcX8afFjB10dTWD4.etisw2_servlet_user?qnaid=QNAS20210908000004&pgno=1', 'https://www.sisul.or.kr/open_content/childrenpark/qna/qnaMsgDetail.do;jsessionid=h7qxKDgmAP5Fe6VN7G4ytvE1zLMmxHafNke11DzIpD4ZGPyEpcX8afFjB10dTWD4.etisw2_servlet_user?qnaid=QNAS20210906000002&pgno=1', 'https://www.sisul.or.kr/open_content/childrenpark/qna/qnaMsgDetail.do;jsessionid=h7qxKDgmAP5Fe6VN7G4ytvE1zLMmxHafNke11DzIpD4ZGPyEpcX8afFjB10dTWD4.etisw2_servlet_user?qnaid=QNAS20210904000006&pgno=1', 'https://www.sisul.or.kr/open_content/childrenpark/qna/qnaMsgDetail.do;jsessionid=h7qxKDgmAP5Fe6VN7G4ytvE1zLMmxHafNke11DzIpD4ZGPyEpcX8afFjB10dTWD4.etisw2_servlet_user?qnaid=QNAS20210904000004&pgno=1', 'https://www.sisul.or.kr/open_content/childrenpark/qna/qnaMsgDetail.do;jsessionid=h7qxKDgmAP5Fe6VN7G4ytvE1zLMmxHafNke11DzIpD4ZGPyEpcX8afFjB10dTWD4.etisw2_servlet_user?qnaid=QNAS20210904000003&pgno=1']\n"
     ]
    }
   ],
   "source": [
    "# 서울시설공단 사이트 주소\n",
    "url_head = \"https://www.sisul.or.kr\"\n",
    "\n",
    "# 서울시설공단 시민의 소리 게시판 주소 생성\n",
    "url_board = url_head + \"/open_content/childrenpark/qna/qnaMsgList.do?pgno=1\"\n",
    "\n",
    "\n",
    "res = request.urlopen(url_board)\n",
    "soup = BeautifulSoup(res, \"html.parser\")\n",
    "\n",
    "# 시민의 소리 게시글의 제목을 스크레이핑 하기\n",
    "# selector = \"#detail_con > div.generalboard > table > tbody > tr > td.left.title > a\"\n",
    "selector = \"#detail_con > div.generalboard > table > tbody > tr > td.left.title > a\"\n",
    "# 빈 리스트 생성\n",
    "titles = []\n",
    "links = []\n",
    "\n",
    "# 시민의 소리 게시글의 제목과 해당 게시글 주소 리스트화하여 추출하기\n",
    "for a in soup.select(selector):\n",
    "    titles.append(a.text)\n",
    "    links.append(url_head + a.attrs[\"href\"])\n",
    "    \n",
    "print(titles, links)"
   ]
  },
  {
   "cell_type": "markdown",
   "id": "dce619fc",
   "metadata": {},
   "source": [
    "## 추가 내용\n",
    "수집된 자료를 데이터프레임으로 만들어 csv로 저장하는 것이 일반적입니다."
   ]
  },
  {
   "cell_type": "code",
   "execution_count": 32,
   "id": "20e38185",
   "metadata": {},
   "outputs": [
    {
     "data": {
      "text/html": [
       "<div>\n",
       "<style scoped>\n",
       "    .dataframe tbody tr th:only-of-type {\n",
       "        vertical-align: middle;\n",
       "    }\n",
       "\n",
       "    .dataframe tbody tr th {\n",
       "        vertical-align: top;\n",
       "    }\n",
       "\n",
       "    .dataframe thead th {\n",
       "        text-align: right;\n",
       "    }\n",
       "</style>\n",
       "<table border=\"1\" class=\"dataframe\">\n",
       "  <thead>\n",
       "    <tr style=\"text-align: right;\">\n",
       "      <th></th>\n",
       "      <th>title</th>\n",
       "      <th>link</th>\n",
       "    </tr>\n",
       "  </thead>\n",
       "  <tbody>\n",
       "    <tr>\n",
       "      <th>0</th>\n",
       "      <td>강창수 해설사님</td>\n",
       "      <td>https://www.sisul.or.kr/open_content/childrenp...</td>\n",
       "    </tr>\n",
       "    <tr>\n",
       "      <th>1</th>\n",
       "      <td>동물해설사님 칭찬</td>\n",
       "      <td>https://www.sisul.or.kr/open_content/childrenp...</td>\n",
       "    </tr>\n",
       "    <tr>\n",
       "      <th>2</th>\n",
       "      <td>강창수 동물 해설사님</td>\n",
       "      <td>https://www.sisul.or.kr/open_content/childrenp...</td>\n",
       "    </tr>\n",
       "    <tr>\n",
       "      <th>3</th>\n",
       "      <td>놀이동산 푸드코트 김치가 중국산인 이유는?</td>\n",
       "      <td>https://www.sisul.or.kr/open_content/childrenp...</td>\n",
       "    </tr>\n",
       "    <tr>\n",
       "      <th>4</th>\n",
       "      <td>주슨트 설명 최고예요!!</td>\n",
       "      <td>https://www.sisul.or.kr/open_content/childrenp...</td>\n",
       "    </tr>\n",
       "  </tbody>\n",
       "</table>\n",
       "</div>"
      ],
      "text/plain": [
       "                     title                                               link\n",
       "0                강창수 해설사님   https://www.sisul.or.kr/open_content/childrenp...\n",
       "1                동물해설사님 칭찬  https://www.sisul.or.kr/open_content/childrenp...\n",
       "2              강창수 동물 해설사님  https://www.sisul.or.kr/open_content/childrenp...\n",
       "3  놀이동산 푸드코트 김치가 중국산인 이유는?  https://www.sisul.or.kr/open_content/childrenp...\n",
       "4            주슨트 설명 최고예요!!  https://www.sisul.or.kr/open_content/childrenp..."
      ]
     },
     "execution_count": 32,
     "metadata": {},
     "output_type": "execute_result"
    }
   ],
   "source": [
    "import pandas as pd\n",
    "\n",
    "# 리스트화 한 titles와 links를 데이터프레임으로 생성하여 저장하기\n",
    "board_df = pd.DataFrame({\"title\": titles, \"link\": links})\n",
    "board_df.head()"
   ]
  },
  {
   "cell_type": "code",
   "execution_count": 34,
   "id": "506ab735",
   "metadata": {},
   "outputs": [],
   "source": [
    "# csv로 저장하기\n",
    "#index=False옵션은 위의 출력된 데이터프레임에 자동으로 추가된 인덱스 없이 저장함.\n",
    "#header옵션의 별도 지정이 없으면 첫 행의 데이터가 열 이름이 됨.\n",
    "board_df.to_csv(\"board.csv\", index=False) "
   ]
  }
 ],
 "metadata": {
  "kernelspec": {
   "display_name": "Python 3",
   "language": "python",
   "name": "python3"
  },
  "language_info": {
   "codemirror_mode": {
    "name": "ipython",
    "version": 3
   },
   "file_extension": ".py",
   "mimetype": "text/x-python",
   "name": "python",
   "nbconvert_exporter": "python",
   "pygments_lexer": "ipython3",
   "version": "3.8.8"
  }
 },
 "nbformat": 4,
 "nbformat_minor": 5
}
